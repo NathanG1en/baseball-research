{
 "cells": [
  {
   "cell_type": "code",
   "id": "initial_id",
   "metadata": {
    "collapsed": true,
    "ExecuteTime": {
     "end_time": "2024-11-12T16:16:50.320039Z",
     "start_time": "2024-11-12T16:16:46.564535Z"
    }
   },
   "source": [
    "import pandas as pd\n",
    "pitch21 = pd.read_csv('data/pitches_21.csv')\n",
    "pitch22 = pd.read_csv('data/pitches_22.csv')\n",
    "pitch23 = pd.read_csv('data/pitches_23.csv')\n",
    "\n",
    "# combined_df = pd.concat([season_21, season_22, season_23])"
   ],
   "outputs": [],
   "execution_count": 2
  },
  {
   "metadata": {},
   "cell_type": "code",
   "outputs": [],
   "execution_count": null,
   "source": [
    "\n",
    " # Drop rows with any NAs\n",
    "# cleaned_df = combined_df.dropna()\n",
    "# \n",
    "# # Converting GameDate to pandas Time Objects\n",
    "# cleaned_df['GameDate'] = pd.to_datetime(cleaned_df['GameDate'])\n",
    "# cleaned_df['Date'] = cleaned_df['GameDate'].dt.date\n",
    "# cleaned_df['Time'] = cleaned_df['GameDate'].dt.time\n",
    "# \n",
    "# cols = list(cleaned_df.columns)\n",
    "# # find index of GameDate\n",
    "# idx = cols.index('GameDate')\n",
    "# # Basically put Date and Time right next to GameDate\n",
    "# new_cols = cols[:idx + 1] + ['Date', 'Time'] + cols[idx + 1:-2]\n",
    "# \n",
    "# cleaned_df = cleaned_df[new_cols].copy()\n",
    "# \n",
    "# \n",
    "# # cleaned_df  = cleaned_df.sort_values(by = ['Date', 'Home', 'ab'])\n",
    "# cleaned_df = cleaned_df.drop(columns = ['Unnamed: 0'])\n",
    "# \n",
    "# \n",
    "# # cleaned_df = cleaned_df.sort_values(by=['gameid', 'ab', 'pitchnum'])\n",
    "# \n",
    "# cleaned_df.to_pickle('data/aggregated_data.pkl')"
   ],
   "id": "84208fe01eaa378"
  },
  {
   "metadata": {
    "ExecuteTime": {
     "end_time": "2024-11-12T16:16:50.324638Z",
     "start_time": "2024-11-12T16:16:50.322022Z"
    }
   },
   "cell_type": "code",
   "source": "# combined_df.tail()",
   "id": "f8143023ddeb4c03",
   "outputs": [],
   "execution_count": 3
  },
  {
   "metadata": {
    "ExecuteTime": {
     "end_time": "2024-11-12T16:16:51.311426Z",
     "start_time": "2024-11-12T16:16:50.325544Z"
    }
   },
   "cell_type": "code",
   "source": [
    "# Combine the dataframes\n",
    "combined_data = pd.concat([pitch21, pitch22, pitch23], ignore_index=True)\n",
    "\n",
    "# Filter for right-handed pitchers and specific pitch types\n",
    "filtered_data = combined_data[(combined_data['pitcherthrows'] == 'R') &\n",
    "                              (combined_data['pitchname'].isin(['FF', 'SL', 'CH', 'CU']))]\n",
    "\n",
    "# Filter for strikes and balls count\n",
    "filtered_data = filtered_data[(filtered_data['strikes'] == 2) & (filtered_data['balls'].isin([0, 1]))]\n",
    "\n",
    "# Add binary column for strikeout outcomes\n",
    "filtered_data['strikeout_binary'] = filtered_data['eventtype'].apply(lambda x: 1 if x in ['strikeout', 'strikeout_double_play'] else 0)\n",
    "\n",
    "# Remove rows where pitchresult_desc is 'Ball - Pitchout' or 'Ball - Ball In Dirt'\n",
    "filtered_data = filtered_data[~filtered_data['pitchresult_desc'].isin(['Ball - Pitchout', 'Ball - Ball In Dirt'])]\n",
    "\n",
    "# Drop rows with missing values\n",
    "filtered_data.dropna(inplace=True)\n",
    "\n",
    "# Display number of remaining rows\n",
    "print(f\"Number of rows in filtered data: {len(filtered_data)}\")"
   ],
   "id": "6872666c1cef3af3",
   "outputs": [
    {
     "name": "stdout",
     "output_type": "stream",
     "text": [
      "Number of rows in filtered data: 187405\n"
     ]
    }
   ],
   "execution_count": 4
  },
  {
   "metadata": {
    "ExecuteTime": {
     "end_time": "2024-11-19T15:56:28.576613Z",
     "start_time": "2024-11-19T15:56:28.558870Z"
    }
   },
   "cell_type": "code",
   "source": "filtered_data['eventtype']",
   "id": "8d56047800800b78",
   "outputs": [
    {
     "data": {
      "text/plain": [
       "array(['strikeout', 'field_out', 'double', 'foul', 'ball', 'wild_pitch',\n",
       "       'single', 'grounded_into_double_play', 'passed_ball', 'force_out',\n",
       "       'sac_fly', 'home_run', 'hit_by_pitch', 'fielders_choice_out',\n",
       "       'double_play', 'stolen_base_2b', 'field_error', 'triple',\n",
       "       'sac_bunt', 'caught_stealing_2b', 'fielders_choice',\n",
       "       'strikeout_double_play', 'stolen_base_3b',\n",
       "       'swinging_strike_blocked', 'defensive_indiff',\n",
       "       'pickoff_caught_stealing_2b', 'swinging_strike',\n",
       "       'caught_stealing_home', 'catcher_interf', 'stolen_base_home',\n",
       "       'pickoff_attempt_1b', 'sac_fly_double_play', 'pickoff_1b',\n",
       "       'pickoff_attempt_3b', 'pickoff_3b', 'caught_stealing_3b',\n",
       "       'triple_play', 'pickoff_attempt_2b', 'pickoff_2b'], dtype=object)"
      ]
     },
     "execution_count": 11,
     "metadata": {},
     "output_type": "execute_result"
    }
   ],
   "execution_count": 11
  },
  {
   "metadata": {
    "ExecuteTime": {
     "end_time": "2024-11-12T16:16:52.576768Z",
     "start_time": "2024-11-12T16:16:51.493164Z"
    }
   },
   "cell_type": "code",
   "source": "filtered_data.to_csv('data/filtered_data.csv', index=False)",
   "id": "76cd4a9631a3035f",
   "outputs": [],
   "execution_count": 6
  },
  {
   "metadata": {
    "ExecuteTime": {
     "end_time": "2024-11-12T16:21:11.388761Z",
     "start_time": "2024-11-12T16:21:04.885987Z"
    }
   },
   "cell_type": "code",
   "source": [
    "filtered_data_bigger = combined_data[(combined_data['pitcherthrows'] == 'R') &\n",
    "                              (combined_data['pitchname'].isin(['FF', 'SL', 'CH', 'CU']))]\n",
    "filtered_data_bigger['strikeout_binary'] = filtered_data_bigger['eventtype'].apply(lambda x: 1 if x in ['strikeout', 'strikeout_double_play'] else 0)\n",
    "\n",
    "filtered_data_bigger = filtered_data_bigger[~filtered_data_bigger['pitchresult_desc'].isin(['Ball - Pitchout', 'Ball - Ball In Dirt'])]\n",
    "\n",
    "filtered_data_bigger.dropna(inplace=True)\n",
    "\n",
    "filtered_data_bigger.to_csv('data/filtered_data_wider.csv', index=False)"
   ],
   "id": "643eaab0b02d4801",
   "outputs": [
    {
     "name": "stderr",
     "output_type": "stream",
     "text": [
      "/var/folders/3w/q_m3rh1s5xv5bh0kfpcqmd9r0000gn/T/ipykernel_61382/3062796358.py:3: SettingWithCopyWarning: \n",
      "A value is trying to be set on a copy of a slice from a DataFrame.\n",
      "Try using .loc[row_indexer,col_indexer] = value instead\n",
      "\n",
      "See the caveats in the documentation: https://pandas.pydata.org/pandas-docs/stable/user_guide/indexing.html#returning-a-view-versus-a-copy\n",
      "  filtered_data_bigger['strikeout_binary'] = filtered_data_bigger['eventtype'].apply(lambda x: 1 if x in ['strikeout', 'strikeout_double_play'] else 0)\n"
     ]
    }
   ],
   "execution_count": 8
  },
  {
   "metadata": {
    "ExecuteTime": {
     "end_time": "2024-11-17T18:33:54.054668Z",
     "start_time": "2024-11-17T18:33:51.939842Z"
    }
   },
   "cell_type": "code",
   "source": "",
   "id": "1b7c114df33269c7",
   "outputs": [
    {
     "ename": "ValueError",
     "evalue": "\n\\phi_i(v) = \\sum_{S \\subseteq N \\setminus \\{i\\}} \\frac{|S|! \\, (|N| - |S| - 1)!}{|N|!} \\big(v(S \\cup \\{i\\}) - v(S)\\big)\n                                ^\nParseSyntaxException: Unknown symbol: \\setminus, found '\\'  (at char 32), (line:1, col:33)",
     "output_type": "error",
     "traceback": [
      "\u001B[0;31m---------------------------------------------------------------------------\u001B[0m",
      "\u001B[0;31mValueError\u001B[0m                                Traceback (most recent call last)",
      "Cell \u001B[0;32mIn[9], line 11\u001B[0m\n\u001B[1;32m      9\u001B[0m \u001B[38;5;66;03m# Save the image with a transparent background\u001B[39;00m\n\u001B[1;32m     10\u001B[0m output_path \u001B[38;5;241m=\u001B[39m \u001B[38;5;124m\"\u001B[39m\u001B[38;5;124mshapley_equation.png\u001B[39m\u001B[38;5;124m\"\u001B[39m\n\u001B[0;32m---> 11\u001B[0m plt\u001B[38;5;241m.\u001B[39msavefig(output_path, dpi\u001B[38;5;241m=\u001B[39m\u001B[38;5;241m300\u001B[39m, bbox_inches\u001B[38;5;241m=\u001B[39m\u001B[38;5;124m'\u001B[39m\u001B[38;5;124mtight\u001B[39m\u001B[38;5;124m'\u001B[39m, transparent\u001B[38;5;241m=\u001B[39m\u001B[38;5;28;01mTrue\u001B[39;00m)\n\u001B[1;32m     12\u001B[0m plt\u001B[38;5;241m.\u001B[39mclose()\n\u001B[1;32m     14\u001B[0m output_path\n",
      "File \u001B[0;32m~/anaconda3/lib/python3.11/site-packages/matplotlib/pyplot.py:1023\u001B[0m, in \u001B[0;36msavefig\u001B[0;34m(*args, **kwargs)\u001B[0m\n\u001B[1;32m   1020\u001B[0m \u001B[38;5;129m@_copy_docstring_and_deprecators\u001B[39m(Figure\u001B[38;5;241m.\u001B[39msavefig)\n\u001B[1;32m   1021\u001B[0m \u001B[38;5;28;01mdef\u001B[39;00m \u001B[38;5;21msavefig\u001B[39m(\u001B[38;5;241m*\u001B[39margs, \u001B[38;5;241m*\u001B[39m\u001B[38;5;241m*\u001B[39mkwargs):\n\u001B[1;32m   1022\u001B[0m     fig \u001B[38;5;241m=\u001B[39m gcf()\n\u001B[0;32m-> 1023\u001B[0m     res \u001B[38;5;241m=\u001B[39m fig\u001B[38;5;241m.\u001B[39msavefig(\u001B[38;5;241m*\u001B[39margs, \u001B[38;5;241m*\u001B[39m\u001B[38;5;241m*\u001B[39mkwargs)\n\u001B[1;32m   1024\u001B[0m     fig\u001B[38;5;241m.\u001B[39mcanvas\u001B[38;5;241m.\u001B[39mdraw_idle()  \u001B[38;5;66;03m# Need this if 'transparent=True', to reset colors.\u001B[39;00m\n\u001B[1;32m   1025\u001B[0m     \u001B[38;5;28;01mreturn\u001B[39;00m res\n",
      "File \u001B[0;32m~/anaconda3/lib/python3.11/site-packages/matplotlib/figure.py:3378\u001B[0m, in \u001B[0;36mFigure.savefig\u001B[0;34m(self, fname, transparent, **kwargs)\u001B[0m\n\u001B[1;32m   3374\u001B[0m     \u001B[38;5;28;01mfor\u001B[39;00m ax \u001B[38;5;129;01min\u001B[39;00m \u001B[38;5;28mself\u001B[39m\u001B[38;5;241m.\u001B[39maxes:\n\u001B[1;32m   3375\u001B[0m         stack\u001B[38;5;241m.\u001B[39menter_context(\n\u001B[1;32m   3376\u001B[0m             ax\u001B[38;5;241m.\u001B[39mpatch\u001B[38;5;241m.\u001B[39m_cm_set(facecolor\u001B[38;5;241m=\u001B[39m\u001B[38;5;124m'\u001B[39m\u001B[38;5;124mnone\u001B[39m\u001B[38;5;124m'\u001B[39m, edgecolor\u001B[38;5;241m=\u001B[39m\u001B[38;5;124m'\u001B[39m\u001B[38;5;124mnone\u001B[39m\u001B[38;5;124m'\u001B[39m))\n\u001B[0;32m-> 3378\u001B[0m \u001B[38;5;28mself\u001B[39m\u001B[38;5;241m.\u001B[39mcanvas\u001B[38;5;241m.\u001B[39mprint_figure(fname, \u001B[38;5;241m*\u001B[39m\u001B[38;5;241m*\u001B[39mkwargs)\n",
      "File \u001B[0;32m~/anaconda3/lib/python3.11/site-packages/matplotlib/backend_bases.py:2342\u001B[0m, in \u001B[0;36mFigureCanvasBase.print_figure\u001B[0;34m(self, filename, dpi, facecolor, edgecolor, orientation, format, bbox_inches, pad_inches, bbox_extra_artists, backend, **kwargs)\u001B[0m\n\u001B[1;32m   2336\u001B[0m     renderer \u001B[38;5;241m=\u001B[39m _get_renderer(\n\u001B[1;32m   2337\u001B[0m         \u001B[38;5;28mself\u001B[39m\u001B[38;5;241m.\u001B[39mfigure,\n\u001B[1;32m   2338\u001B[0m         functools\u001B[38;5;241m.\u001B[39mpartial(\n\u001B[1;32m   2339\u001B[0m             print_method, orientation\u001B[38;5;241m=\u001B[39morientation)\n\u001B[1;32m   2340\u001B[0m     )\n\u001B[1;32m   2341\u001B[0m     \u001B[38;5;28;01mwith\u001B[39;00m \u001B[38;5;28mgetattr\u001B[39m(renderer, \u001B[38;5;124m\"\u001B[39m\u001B[38;5;124m_draw_disabled\u001B[39m\u001B[38;5;124m\"\u001B[39m, nullcontext)():\n\u001B[0;32m-> 2342\u001B[0m         \u001B[38;5;28mself\u001B[39m\u001B[38;5;241m.\u001B[39mfigure\u001B[38;5;241m.\u001B[39mdraw(renderer)\n\u001B[1;32m   2344\u001B[0m \u001B[38;5;28;01mif\u001B[39;00m bbox_inches:\n\u001B[1;32m   2345\u001B[0m     \u001B[38;5;28;01mif\u001B[39;00m bbox_inches \u001B[38;5;241m==\u001B[39m \u001B[38;5;124m\"\u001B[39m\u001B[38;5;124mtight\u001B[39m\u001B[38;5;124m\"\u001B[39m:\n",
      "File \u001B[0;32m~/anaconda3/lib/python3.11/site-packages/matplotlib/artist.py:95\u001B[0m, in \u001B[0;36m_finalize_rasterization.<locals>.draw_wrapper\u001B[0;34m(artist, renderer, *args, **kwargs)\u001B[0m\n\u001B[1;32m     93\u001B[0m \u001B[38;5;129m@wraps\u001B[39m(draw)\n\u001B[1;32m     94\u001B[0m \u001B[38;5;28;01mdef\u001B[39;00m \u001B[38;5;21mdraw_wrapper\u001B[39m(artist, renderer, \u001B[38;5;241m*\u001B[39margs, \u001B[38;5;241m*\u001B[39m\u001B[38;5;241m*\u001B[39mkwargs):\n\u001B[0;32m---> 95\u001B[0m     result \u001B[38;5;241m=\u001B[39m draw(artist, renderer, \u001B[38;5;241m*\u001B[39margs, \u001B[38;5;241m*\u001B[39m\u001B[38;5;241m*\u001B[39mkwargs)\n\u001B[1;32m     96\u001B[0m     \u001B[38;5;28;01mif\u001B[39;00m renderer\u001B[38;5;241m.\u001B[39m_rasterizing:\n\u001B[1;32m     97\u001B[0m         renderer\u001B[38;5;241m.\u001B[39mstop_rasterizing()\n",
      "File \u001B[0;32m~/anaconda3/lib/python3.11/site-packages/matplotlib/artist.py:72\u001B[0m, in \u001B[0;36mallow_rasterization.<locals>.draw_wrapper\u001B[0;34m(artist, renderer)\u001B[0m\n\u001B[1;32m     69\u001B[0m     \u001B[38;5;28;01mif\u001B[39;00m artist\u001B[38;5;241m.\u001B[39mget_agg_filter() \u001B[38;5;129;01mis\u001B[39;00m \u001B[38;5;129;01mnot\u001B[39;00m \u001B[38;5;28;01mNone\u001B[39;00m:\n\u001B[1;32m     70\u001B[0m         renderer\u001B[38;5;241m.\u001B[39mstart_filter()\n\u001B[0;32m---> 72\u001B[0m     \u001B[38;5;28;01mreturn\u001B[39;00m draw(artist, renderer)\n\u001B[1;32m     73\u001B[0m \u001B[38;5;28;01mfinally\u001B[39;00m:\n\u001B[1;32m     74\u001B[0m     \u001B[38;5;28;01mif\u001B[39;00m artist\u001B[38;5;241m.\u001B[39mget_agg_filter() \u001B[38;5;129;01mis\u001B[39;00m \u001B[38;5;129;01mnot\u001B[39;00m \u001B[38;5;28;01mNone\u001B[39;00m:\n",
      "File \u001B[0;32m~/anaconda3/lib/python3.11/site-packages/matplotlib/figure.py:3175\u001B[0m, in \u001B[0;36mFigure.draw\u001B[0;34m(self, renderer)\u001B[0m\n\u001B[1;32m   3172\u001B[0m         \u001B[38;5;66;03m# ValueError can occur when resizing a window.\u001B[39;00m\n\u001B[1;32m   3174\u001B[0m \u001B[38;5;28mself\u001B[39m\u001B[38;5;241m.\u001B[39mpatch\u001B[38;5;241m.\u001B[39mdraw(renderer)\n\u001B[0;32m-> 3175\u001B[0m mimage\u001B[38;5;241m.\u001B[39m_draw_list_compositing_images(\n\u001B[1;32m   3176\u001B[0m     renderer, \u001B[38;5;28mself\u001B[39m, artists, \u001B[38;5;28mself\u001B[39m\u001B[38;5;241m.\u001B[39msuppressComposite)\n\u001B[1;32m   3178\u001B[0m \u001B[38;5;28;01mfor\u001B[39;00m sfig \u001B[38;5;129;01min\u001B[39;00m \u001B[38;5;28mself\u001B[39m\u001B[38;5;241m.\u001B[39msubfigs:\n\u001B[1;32m   3179\u001B[0m     sfig\u001B[38;5;241m.\u001B[39mdraw(renderer)\n",
      "File \u001B[0;32m~/anaconda3/lib/python3.11/site-packages/matplotlib/image.py:131\u001B[0m, in \u001B[0;36m_draw_list_compositing_images\u001B[0;34m(renderer, parent, artists, suppress_composite)\u001B[0m\n\u001B[1;32m    129\u001B[0m \u001B[38;5;28;01mif\u001B[39;00m not_composite \u001B[38;5;129;01mor\u001B[39;00m \u001B[38;5;129;01mnot\u001B[39;00m has_images:\n\u001B[1;32m    130\u001B[0m     \u001B[38;5;28;01mfor\u001B[39;00m a \u001B[38;5;129;01min\u001B[39;00m artists:\n\u001B[0;32m--> 131\u001B[0m         a\u001B[38;5;241m.\u001B[39mdraw(renderer)\n\u001B[1;32m    132\u001B[0m \u001B[38;5;28;01melse\u001B[39;00m:\n\u001B[1;32m    133\u001B[0m     \u001B[38;5;66;03m# Composite any adjacent images together\u001B[39;00m\n\u001B[1;32m    134\u001B[0m     image_group \u001B[38;5;241m=\u001B[39m []\n",
      "File \u001B[0;32m~/anaconda3/lib/python3.11/site-packages/matplotlib/artist.py:72\u001B[0m, in \u001B[0;36mallow_rasterization.<locals>.draw_wrapper\u001B[0;34m(artist, renderer)\u001B[0m\n\u001B[1;32m     69\u001B[0m     \u001B[38;5;28;01mif\u001B[39;00m artist\u001B[38;5;241m.\u001B[39mget_agg_filter() \u001B[38;5;129;01mis\u001B[39;00m \u001B[38;5;129;01mnot\u001B[39;00m \u001B[38;5;28;01mNone\u001B[39;00m:\n\u001B[1;32m     70\u001B[0m         renderer\u001B[38;5;241m.\u001B[39mstart_filter()\n\u001B[0;32m---> 72\u001B[0m     \u001B[38;5;28;01mreturn\u001B[39;00m draw(artist, renderer)\n\u001B[1;32m     73\u001B[0m \u001B[38;5;28;01mfinally\u001B[39;00m:\n\u001B[1;32m     74\u001B[0m     \u001B[38;5;28;01mif\u001B[39;00m artist\u001B[38;5;241m.\u001B[39mget_agg_filter() \u001B[38;5;129;01mis\u001B[39;00m \u001B[38;5;129;01mnot\u001B[39;00m \u001B[38;5;28;01mNone\u001B[39;00m:\n",
      "File \u001B[0;32m~/anaconda3/lib/python3.11/site-packages/matplotlib/axes/_base.py:3064\u001B[0m, in \u001B[0;36m_AxesBase.draw\u001B[0;34m(self, renderer)\u001B[0m\n\u001B[1;32m   3061\u001B[0m \u001B[38;5;28;01mif\u001B[39;00m artists_rasterized:\n\u001B[1;32m   3062\u001B[0m     _draw_rasterized(\u001B[38;5;28mself\u001B[39m\u001B[38;5;241m.\u001B[39mfigure, artists_rasterized, renderer)\n\u001B[0;32m-> 3064\u001B[0m mimage\u001B[38;5;241m.\u001B[39m_draw_list_compositing_images(\n\u001B[1;32m   3065\u001B[0m     renderer, \u001B[38;5;28mself\u001B[39m, artists, \u001B[38;5;28mself\u001B[39m\u001B[38;5;241m.\u001B[39mfigure\u001B[38;5;241m.\u001B[39msuppressComposite)\n\u001B[1;32m   3067\u001B[0m renderer\u001B[38;5;241m.\u001B[39mclose_group(\u001B[38;5;124m'\u001B[39m\u001B[38;5;124maxes\u001B[39m\u001B[38;5;124m'\u001B[39m)\n\u001B[1;32m   3068\u001B[0m \u001B[38;5;28mself\u001B[39m\u001B[38;5;241m.\u001B[39mstale \u001B[38;5;241m=\u001B[39m \u001B[38;5;28;01mFalse\u001B[39;00m\n",
      "File \u001B[0;32m~/anaconda3/lib/python3.11/site-packages/matplotlib/image.py:131\u001B[0m, in \u001B[0;36m_draw_list_compositing_images\u001B[0;34m(renderer, parent, artists, suppress_composite)\u001B[0m\n\u001B[1;32m    129\u001B[0m \u001B[38;5;28;01mif\u001B[39;00m not_composite \u001B[38;5;129;01mor\u001B[39;00m \u001B[38;5;129;01mnot\u001B[39;00m has_images:\n\u001B[1;32m    130\u001B[0m     \u001B[38;5;28;01mfor\u001B[39;00m a \u001B[38;5;129;01min\u001B[39;00m artists:\n\u001B[0;32m--> 131\u001B[0m         a\u001B[38;5;241m.\u001B[39mdraw(renderer)\n\u001B[1;32m    132\u001B[0m \u001B[38;5;28;01melse\u001B[39;00m:\n\u001B[1;32m    133\u001B[0m     \u001B[38;5;66;03m# Composite any adjacent images together\u001B[39;00m\n\u001B[1;32m    134\u001B[0m     image_group \u001B[38;5;241m=\u001B[39m []\n",
      "File \u001B[0;32m~/anaconda3/lib/python3.11/site-packages/matplotlib/artist.py:72\u001B[0m, in \u001B[0;36mallow_rasterization.<locals>.draw_wrapper\u001B[0;34m(artist, renderer)\u001B[0m\n\u001B[1;32m     69\u001B[0m     \u001B[38;5;28;01mif\u001B[39;00m artist\u001B[38;5;241m.\u001B[39mget_agg_filter() \u001B[38;5;129;01mis\u001B[39;00m \u001B[38;5;129;01mnot\u001B[39;00m \u001B[38;5;28;01mNone\u001B[39;00m:\n\u001B[1;32m     70\u001B[0m         renderer\u001B[38;5;241m.\u001B[39mstart_filter()\n\u001B[0;32m---> 72\u001B[0m     \u001B[38;5;28;01mreturn\u001B[39;00m draw(artist, renderer)\n\u001B[1;32m     73\u001B[0m \u001B[38;5;28;01mfinally\u001B[39;00m:\n\u001B[1;32m     74\u001B[0m     \u001B[38;5;28;01mif\u001B[39;00m artist\u001B[38;5;241m.\u001B[39mget_agg_filter() \u001B[38;5;129;01mis\u001B[39;00m \u001B[38;5;129;01mnot\u001B[39;00m \u001B[38;5;28;01mNone\u001B[39;00m:\n",
      "File \u001B[0;32m~/anaconda3/lib/python3.11/site-packages/matplotlib/text.py:752\u001B[0m, in \u001B[0;36mText.draw\u001B[0;34m(self, renderer)\u001B[0m\n\u001B[1;32m    749\u001B[0m renderer\u001B[38;5;241m.\u001B[39mopen_group(\u001B[38;5;124m'\u001B[39m\u001B[38;5;124mtext\u001B[39m\u001B[38;5;124m'\u001B[39m, \u001B[38;5;28mself\u001B[39m\u001B[38;5;241m.\u001B[39mget_gid())\n\u001B[1;32m    751\u001B[0m \u001B[38;5;28;01mwith\u001B[39;00m \u001B[38;5;28mself\u001B[39m\u001B[38;5;241m.\u001B[39m_cm_set(text\u001B[38;5;241m=\u001B[39m\u001B[38;5;28mself\u001B[39m\u001B[38;5;241m.\u001B[39m_get_wrapped_text()):\n\u001B[0;32m--> 752\u001B[0m     bbox, info, descent \u001B[38;5;241m=\u001B[39m \u001B[38;5;28mself\u001B[39m\u001B[38;5;241m.\u001B[39m_get_layout(renderer)\n\u001B[1;32m    753\u001B[0m     trans \u001B[38;5;241m=\u001B[39m \u001B[38;5;28mself\u001B[39m\u001B[38;5;241m.\u001B[39mget_transform()\n\u001B[1;32m    755\u001B[0m     \u001B[38;5;66;03m# don't use self.get_position here, which refers to text\u001B[39;00m\n\u001B[1;32m    756\u001B[0m     \u001B[38;5;66;03m# position in Text:\u001B[39;00m\n",
      "File \u001B[0;32m~/anaconda3/lib/python3.11/site-packages/matplotlib/text.py:386\u001B[0m, in \u001B[0;36mText._get_layout\u001B[0;34m(self, renderer)\u001B[0m\n\u001B[1;32m    384\u001B[0m clean_line, ismath \u001B[38;5;241m=\u001B[39m \u001B[38;5;28mself\u001B[39m\u001B[38;5;241m.\u001B[39m_preprocess_math(line)\n\u001B[1;32m    385\u001B[0m \u001B[38;5;28;01mif\u001B[39;00m clean_line:\n\u001B[0;32m--> 386\u001B[0m     w, h, d \u001B[38;5;241m=\u001B[39m _get_text_metrics_with_cache(\n\u001B[1;32m    387\u001B[0m         renderer, clean_line, \u001B[38;5;28mself\u001B[39m\u001B[38;5;241m.\u001B[39m_fontproperties,\n\u001B[1;32m    388\u001B[0m         ismath\u001B[38;5;241m=\u001B[39mismath, dpi\u001B[38;5;241m=\u001B[39m\u001B[38;5;28mself\u001B[39m\u001B[38;5;241m.\u001B[39mfigure\u001B[38;5;241m.\u001B[39mdpi)\n\u001B[1;32m    389\u001B[0m \u001B[38;5;28;01melse\u001B[39;00m:\n\u001B[1;32m    390\u001B[0m     w \u001B[38;5;241m=\u001B[39m h \u001B[38;5;241m=\u001B[39m d \u001B[38;5;241m=\u001B[39m \u001B[38;5;241m0\u001B[39m\n",
      "File \u001B[0;32m~/anaconda3/lib/python3.11/site-packages/matplotlib/text.py:97\u001B[0m, in \u001B[0;36m_get_text_metrics_with_cache\u001B[0;34m(renderer, text, fontprop, ismath, dpi)\u001B[0m\n\u001B[1;32m     94\u001B[0m \u001B[38;5;250m\u001B[39m\u001B[38;5;124;03m\"\"\"Call ``renderer.get_text_width_height_descent``, caching the results.\"\"\"\u001B[39;00m\n\u001B[1;32m     95\u001B[0m \u001B[38;5;66;03m# Cached based on a copy of fontprop so that later in-place mutations of\u001B[39;00m\n\u001B[1;32m     96\u001B[0m \u001B[38;5;66;03m# the passed-in argument do not mess up the cache.\u001B[39;00m\n\u001B[0;32m---> 97\u001B[0m \u001B[38;5;28;01mreturn\u001B[39;00m _get_text_metrics_with_cache_impl(\n\u001B[1;32m     98\u001B[0m     weakref\u001B[38;5;241m.\u001B[39mref(renderer), text, fontprop\u001B[38;5;241m.\u001B[39mcopy(), ismath, dpi)\n",
      "File \u001B[0;32m~/anaconda3/lib/python3.11/site-packages/matplotlib/text.py:105\u001B[0m, in \u001B[0;36m_get_text_metrics_with_cache_impl\u001B[0;34m(renderer_ref, text, fontprop, ismath, dpi)\u001B[0m\n\u001B[1;32m    101\u001B[0m \u001B[38;5;129m@functools\u001B[39m\u001B[38;5;241m.\u001B[39mlru_cache(\u001B[38;5;241m4096\u001B[39m)\n\u001B[1;32m    102\u001B[0m \u001B[38;5;28;01mdef\u001B[39;00m \u001B[38;5;21m_get_text_metrics_with_cache_impl\u001B[39m(\n\u001B[1;32m    103\u001B[0m         renderer_ref, text, fontprop, ismath, dpi):\n\u001B[1;32m    104\u001B[0m     \u001B[38;5;66;03m# dpi is unused, but participates in cache invalidation (via the renderer).\u001B[39;00m\n\u001B[0;32m--> 105\u001B[0m     \u001B[38;5;28;01mreturn\u001B[39;00m renderer_ref()\u001B[38;5;241m.\u001B[39mget_text_width_height_descent(text, fontprop, ismath)\n",
      "File \u001B[0;32m~/anaconda3/lib/python3.11/site-packages/matplotlib/backends/backend_agg.py:230\u001B[0m, in \u001B[0;36mRendererAgg.get_text_width_height_descent\u001B[0;34m(self, s, prop, ismath)\u001B[0m\n\u001B[1;32m    226\u001B[0m     \u001B[38;5;28;01mreturn\u001B[39;00m \u001B[38;5;28msuper\u001B[39m()\u001B[38;5;241m.\u001B[39mget_text_width_height_descent(s, prop, ismath)\n\u001B[1;32m    228\u001B[0m \u001B[38;5;28;01mif\u001B[39;00m ismath:\n\u001B[1;32m    229\u001B[0m     ox, oy, width, height, descent, font_image \u001B[38;5;241m=\u001B[39m \\\n\u001B[0;32m--> 230\u001B[0m         \u001B[38;5;28mself\u001B[39m\u001B[38;5;241m.\u001B[39mmathtext_parser\u001B[38;5;241m.\u001B[39mparse(s, \u001B[38;5;28mself\u001B[39m\u001B[38;5;241m.\u001B[39mdpi, prop)\n\u001B[1;32m    231\u001B[0m     \u001B[38;5;28;01mreturn\u001B[39;00m width, height, descent\n\u001B[1;32m    233\u001B[0m font \u001B[38;5;241m=\u001B[39m \u001B[38;5;28mself\u001B[39m\u001B[38;5;241m.\u001B[39m_prepare_font(prop)\n",
      "File \u001B[0;32m~/anaconda3/lib/python3.11/site-packages/matplotlib/mathtext.py:226\u001B[0m, in \u001B[0;36mMathTextParser.parse\u001B[0;34m(self, s, dpi, prop)\u001B[0m\n\u001B[1;32m    222\u001B[0m \u001B[38;5;66;03m# lru_cache can't decorate parse() directly because prop\u001B[39;00m\n\u001B[1;32m    223\u001B[0m \u001B[38;5;66;03m# is mutable; key the cache using an internal copy (see\u001B[39;00m\n\u001B[1;32m    224\u001B[0m \u001B[38;5;66;03m# text._get_text_metrics_with_cache for a similar case).\u001B[39;00m\n\u001B[1;32m    225\u001B[0m prop \u001B[38;5;241m=\u001B[39m prop\u001B[38;5;241m.\u001B[39mcopy() \u001B[38;5;28;01mif\u001B[39;00m prop \u001B[38;5;129;01mis\u001B[39;00m \u001B[38;5;129;01mnot\u001B[39;00m \u001B[38;5;28;01mNone\u001B[39;00m \u001B[38;5;28;01melse\u001B[39;00m \u001B[38;5;28;01mNone\u001B[39;00m\n\u001B[0;32m--> 226\u001B[0m \u001B[38;5;28;01mreturn\u001B[39;00m \u001B[38;5;28mself\u001B[39m\u001B[38;5;241m.\u001B[39m_parse_cached(s, dpi, prop)\n",
      "File \u001B[0;32m~/anaconda3/lib/python3.11/site-packages/matplotlib/mathtext.py:247\u001B[0m, in \u001B[0;36mMathTextParser._parse_cached\u001B[0;34m(self, s, dpi, prop)\u001B[0m\n\u001B[1;32m    244\u001B[0m \u001B[38;5;28;01mif\u001B[39;00m \u001B[38;5;28mself\u001B[39m\u001B[38;5;241m.\u001B[39m_parser \u001B[38;5;129;01mis\u001B[39;00m \u001B[38;5;28;01mNone\u001B[39;00m:  \u001B[38;5;66;03m# Cache the parser globally.\u001B[39;00m\n\u001B[1;32m    245\u001B[0m     \u001B[38;5;28mself\u001B[39m\u001B[38;5;241m.\u001B[39m\u001B[38;5;18m__class__\u001B[39m\u001B[38;5;241m.\u001B[39m_parser \u001B[38;5;241m=\u001B[39m _mathtext\u001B[38;5;241m.\u001B[39mParser()\n\u001B[0;32m--> 247\u001B[0m box \u001B[38;5;241m=\u001B[39m \u001B[38;5;28mself\u001B[39m\u001B[38;5;241m.\u001B[39m_parser\u001B[38;5;241m.\u001B[39mparse(s, fontset, fontsize, dpi)\n\u001B[1;32m    248\u001B[0m output \u001B[38;5;241m=\u001B[39m _mathtext\u001B[38;5;241m.\u001B[39mship(box)\n\u001B[1;32m    249\u001B[0m \u001B[38;5;28;01mif\u001B[39;00m \u001B[38;5;28mself\u001B[39m\u001B[38;5;241m.\u001B[39m_output_type \u001B[38;5;241m==\u001B[39m \u001B[38;5;124m\"\u001B[39m\u001B[38;5;124mvector\u001B[39m\u001B[38;5;124m\"\u001B[39m:\n",
      "File \u001B[0;32m~/anaconda3/lib/python3.11/site-packages/matplotlib/_mathtext.py:1995\u001B[0m, in \u001B[0;36mParser.parse\u001B[0;34m(self, s, fonts_object, fontsize, dpi)\u001B[0m\n\u001B[1;32m   1992\u001B[0m     result \u001B[38;5;241m=\u001B[39m \u001B[38;5;28mself\u001B[39m\u001B[38;5;241m.\u001B[39m_expression\u001B[38;5;241m.\u001B[39mparseString(s)\n\u001B[1;32m   1993\u001B[0m \u001B[38;5;28;01mexcept\u001B[39;00m ParseBaseException \u001B[38;5;28;01mas\u001B[39;00m err:\n\u001B[1;32m   1994\u001B[0m     \u001B[38;5;66;03m# explain becomes a plain method on pyparsing 3 (err.explain(0)).\u001B[39;00m\n\u001B[0;32m-> 1995\u001B[0m     \u001B[38;5;28;01mraise\u001B[39;00m \u001B[38;5;167;01mValueError\u001B[39;00m(\u001B[38;5;124m\"\u001B[39m\u001B[38;5;130;01m\\n\u001B[39;00m\u001B[38;5;124m\"\u001B[39m \u001B[38;5;241m+\u001B[39m ParseException\u001B[38;5;241m.\u001B[39mexplain(err, \u001B[38;5;241m0\u001B[39m)) \u001B[38;5;28;01mfrom\u001B[39;00m \u001B[38;5;28;01mNone\u001B[39;00m\n\u001B[1;32m   1996\u001B[0m \u001B[38;5;28mself\u001B[39m\u001B[38;5;241m.\u001B[39m_state_stack \u001B[38;5;241m=\u001B[39m \u001B[38;5;28;01mNone\u001B[39;00m\n\u001B[1;32m   1997\u001B[0m \u001B[38;5;28mself\u001B[39m\u001B[38;5;241m.\u001B[39m_in_subscript_or_superscript \u001B[38;5;241m=\u001B[39m \u001B[38;5;28;01mFalse\u001B[39;00m\n",
      "\u001B[0;31mValueError\u001B[0m: \n\\phi_i(v) = \\sum_{S \\subseteq N \\setminus \\{i\\}} \\frac{|S|! \\, (|N| - |S| - 1)!}{|N|!} \\big(v(S \\cup \\{i\\}) - v(S)\\big)\n                                ^\nParseSyntaxException: Unknown symbol: \\setminus, found '\\'  (at char 32), (line:1, col:33)"
     ]
    },
    {
     "name": "stdout",
     "output_type": "stream",
     "text": [
      "Error in callback <function _draw_all_if_interactive at 0x16ad82660> (for post_execute):\n"
     ]
    },
    {
     "ename": "ValueError",
     "evalue": "\n\\phi_i(v) = \\sum_{S \\subseteq N \\setminus \\{i\\}} \\frac{|S|! \\, (|N| - |S| - 1)!}{|N|!} \\big(v(S \\cup \\{i\\}) - v(S)\\big)\n                                ^\nParseSyntaxException: Unknown symbol: \\setminus, found '\\'  (at char 32), (line:1, col:33)",
     "output_type": "error",
     "traceback": [
      "\u001B[0;31m---------------------------------------------------------------------------\u001B[0m",
      "\u001B[0;31mValueError\u001B[0m                                Traceback (most recent call last)",
      "File \u001B[0;32m~/anaconda3/lib/python3.11/site-packages/matplotlib/pyplot.py:120\u001B[0m, in \u001B[0;36m_draw_all_if_interactive\u001B[0;34m()\u001B[0m\n\u001B[1;32m    118\u001B[0m \u001B[38;5;28;01mdef\u001B[39;00m \u001B[38;5;21m_draw_all_if_interactive\u001B[39m():\n\u001B[1;32m    119\u001B[0m     \u001B[38;5;28;01mif\u001B[39;00m matplotlib\u001B[38;5;241m.\u001B[39mis_interactive():\n\u001B[0;32m--> 120\u001B[0m         draw_all()\n",
      "File \u001B[0;32m~/anaconda3/lib/python3.11/site-packages/matplotlib/_pylab_helpers.py:132\u001B[0m, in \u001B[0;36mGcf.draw_all\u001B[0;34m(cls, force)\u001B[0m\n\u001B[1;32m    130\u001B[0m \u001B[38;5;28;01mfor\u001B[39;00m manager \u001B[38;5;129;01min\u001B[39;00m \u001B[38;5;28mcls\u001B[39m\u001B[38;5;241m.\u001B[39mget_all_fig_managers():\n\u001B[1;32m    131\u001B[0m     \u001B[38;5;28;01mif\u001B[39;00m force \u001B[38;5;129;01mor\u001B[39;00m manager\u001B[38;5;241m.\u001B[39mcanvas\u001B[38;5;241m.\u001B[39mfigure\u001B[38;5;241m.\u001B[39mstale:\n\u001B[0;32m--> 132\u001B[0m         manager\u001B[38;5;241m.\u001B[39mcanvas\u001B[38;5;241m.\u001B[39mdraw_idle()\n",
      "File \u001B[0;32m~/anaconda3/lib/python3.11/site-packages/matplotlib/backend_bases.py:2082\u001B[0m, in \u001B[0;36mFigureCanvasBase.draw_idle\u001B[0;34m(self, *args, **kwargs)\u001B[0m\n\u001B[1;32m   2080\u001B[0m \u001B[38;5;28;01mif\u001B[39;00m \u001B[38;5;129;01mnot\u001B[39;00m \u001B[38;5;28mself\u001B[39m\u001B[38;5;241m.\u001B[39m_is_idle_drawing:\n\u001B[1;32m   2081\u001B[0m     \u001B[38;5;28;01mwith\u001B[39;00m \u001B[38;5;28mself\u001B[39m\u001B[38;5;241m.\u001B[39m_idle_draw_cntx():\n\u001B[0;32m-> 2082\u001B[0m         \u001B[38;5;28mself\u001B[39m\u001B[38;5;241m.\u001B[39mdraw(\u001B[38;5;241m*\u001B[39margs, \u001B[38;5;241m*\u001B[39m\u001B[38;5;241m*\u001B[39mkwargs)\n",
      "File \u001B[0;32m~/anaconda3/lib/python3.11/site-packages/matplotlib/backends/backend_agg.py:400\u001B[0m, in \u001B[0;36mFigureCanvasAgg.draw\u001B[0;34m(self)\u001B[0m\n\u001B[1;32m    396\u001B[0m \u001B[38;5;66;03m# Acquire a lock on the shared font cache.\u001B[39;00m\n\u001B[1;32m    397\u001B[0m \u001B[38;5;28;01mwith\u001B[39;00m RendererAgg\u001B[38;5;241m.\u001B[39mlock, \\\n\u001B[1;32m    398\u001B[0m      (\u001B[38;5;28mself\u001B[39m\u001B[38;5;241m.\u001B[39mtoolbar\u001B[38;5;241m.\u001B[39m_wait_cursor_for_draw_cm() \u001B[38;5;28;01mif\u001B[39;00m \u001B[38;5;28mself\u001B[39m\u001B[38;5;241m.\u001B[39mtoolbar\n\u001B[1;32m    399\u001B[0m       \u001B[38;5;28;01melse\u001B[39;00m nullcontext()):\n\u001B[0;32m--> 400\u001B[0m     \u001B[38;5;28mself\u001B[39m\u001B[38;5;241m.\u001B[39mfigure\u001B[38;5;241m.\u001B[39mdraw(\u001B[38;5;28mself\u001B[39m\u001B[38;5;241m.\u001B[39mrenderer)\n\u001B[1;32m    401\u001B[0m     \u001B[38;5;66;03m# A GUI class may be need to update a window using this draw, so\u001B[39;00m\n\u001B[1;32m    402\u001B[0m     \u001B[38;5;66;03m# don't forget to call the superclass.\u001B[39;00m\n\u001B[1;32m    403\u001B[0m     \u001B[38;5;28msuper\u001B[39m()\u001B[38;5;241m.\u001B[39mdraw()\n",
      "File \u001B[0;32m~/anaconda3/lib/python3.11/site-packages/matplotlib/artist.py:95\u001B[0m, in \u001B[0;36m_finalize_rasterization.<locals>.draw_wrapper\u001B[0;34m(artist, renderer, *args, **kwargs)\u001B[0m\n\u001B[1;32m     93\u001B[0m \u001B[38;5;129m@wraps\u001B[39m(draw)\n\u001B[1;32m     94\u001B[0m \u001B[38;5;28;01mdef\u001B[39;00m \u001B[38;5;21mdraw_wrapper\u001B[39m(artist, renderer, \u001B[38;5;241m*\u001B[39margs, \u001B[38;5;241m*\u001B[39m\u001B[38;5;241m*\u001B[39mkwargs):\n\u001B[0;32m---> 95\u001B[0m     result \u001B[38;5;241m=\u001B[39m draw(artist, renderer, \u001B[38;5;241m*\u001B[39margs, \u001B[38;5;241m*\u001B[39m\u001B[38;5;241m*\u001B[39mkwargs)\n\u001B[1;32m     96\u001B[0m     \u001B[38;5;28;01mif\u001B[39;00m renderer\u001B[38;5;241m.\u001B[39m_rasterizing:\n\u001B[1;32m     97\u001B[0m         renderer\u001B[38;5;241m.\u001B[39mstop_rasterizing()\n",
      "File \u001B[0;32m~/anaconda3/lib/python3.11/site-packages/matplotlib/artist.py:72\u001B[0m, in \u001B[0;36mallow_rasterization.<locals>.draw_wrapper\u001B[0;34m(artist, renderer)\u001B[0m\n\u001B[1;32m     69\u001B[0m     \u001B[38;5;28;01mif\u001B[39;00m artist\u001B[38;5;241m.\u001B[39mget_agg_filter() \u001B[38;5;129;01mis\u001B[39;00m \u001B[38;5;129;01mnot\u001B[39;00m \u001B[38;5;28;01mNone\u001B[39;00m:\n\u001B[1;32m     70\u001B[0m         renderer\u001B[38;5;241m.\u001B[39mstart_filter()\n\u001B[0;32m---> 72\u001B[0m     \u001B[38;5;28;01mreturn\u001B[39;00m draw(artist, renderer)\n\u001B[1;32m     73\u001B[0m \u001B[38;5;28;01mfinally\u001B[39;00m:\n\u001B[1;32m     74\u001B[0m     \u001B[38;5;28;01mif\u001B[39;00m artist\u001B[38;5;241m.\u001B[39mget_agg_filter() \u001B[38;5;129;01mis\u001B[39;00m \u001B[38;5;129;01mnot\u001B[39;00m \u001B[38;5;28;01mNone\u001B[39;00m:\n",
      "File \u001B[0;32m~/anaconda3/lib/python3.11/site-packages/matplotlib/figure.py:3175\u001B[0m, in \u001B[0;36mFigure.draw\u001B[0;34m(self, renderer)\u001B[0m\n\u001B[1;32m   3172\u001B[0m         \u001B[38;5;66;03m# ValueError can occur when resizing a window.\u001B[39;00m\n\u001B[1;32m   3174\u001B[0m \u001B[38;5;28mself\u001B[39m\u001B[38;5;241m.\u001B[39mpatch\u001B[38;5;241m.\u001B[39mdraw(renderer)\n\u001B[0;32m-> 3175\u001B[0m mimage\u001B[38;5;241m.\u001B[39m_draw_list_compositing_images(\n\u001B[1;32m   3176\u001B[0m     renderer, \u001B[38;5;28mself\u001B[39m, artists, \u001B[38;5;28mself\u001B[39m\u001B[38;5;241m.\u001B[39msuppressComposite)\n\u001B[1;32m   3178\u001B[0m \u001B[38;5;28;01mfor\u001B[39;00m sfig \u001B[38;5;129;01min\u001B[39;00m \u001B[38;5;28mself\u001B[39m\u001B[38;5;241m.\u001B[39msubfigs:\n\u001B[1;32m   3179\u001B[0m     sfig\u001B[38;5;241m.\u001B[39mdraw(renderer)\n",
      "File \u001B[0;32m~/anaconda3/lib/python3.11/site-packages/matplotlib/image.py:131\u001B[0m, in \u001B[0;36m_draw_list_compositing_images\u001B[0;34m(renderer, parent, artists, suppress_composite)\u001B[0m\n\u001B[1;32m    129\u001B[0m \u001B[38;5;28;01mif\u001B[39;00m not_composite \u001B[38;5;129;01mor\u001B[39;00m \u001B[38;5;129;01mnot\u001B[39;00m has_images:\n\u001B[1;32m    130\u001B[0m     \u001B[38;5;28;01mfor\u001B[39;00m a \u001B[38;5;129;01min\u001B[39;00m artists:\n\u001B[0;32m--> 131\u001B[0m         a\u001B[38;5;241m.\u001B[39mdraw(renderer)\n\u001B[1;32m    132\u001B[0m \u001B[38;5;28;01melse\u001B[39;00m:\n\u001B[1;32m    133\u001B[0m     \u001B[38;5;66;03m# Composite any adjacent images together\u001B[39;00m\n\u001B[1;32m    134\u001B[0m     image_group \u001B[38;5;241m=\u001B[39m []\n",
      "File \u001B[0;32m~/anaconda3/lib/python3.11/site-packages/matplotlib/artist.py:72\u001B[0m, in \u001B[0;36mallow_rasterization.<locals>.draw_wrapper\u001B[0;34m(artist, renderer)\u001B[0m\n\u001B[1;32m     69\u001B[0m     \u001B[38;5;28;01mif\u001B[39;00m artist\u001B[38;5;241m.\u001B[39mget_agg_filter() \u001B[38;5;129;01mis\u001B[39;00m \u001B[38;5;129;01mnot\u001B[39;00m \u001B[38;5;28;01mNone\u001B[39;00m:\n\u001B[1;32m     70\u001B[0m         renderer\u001B[38;5;241m.\u001B[39mstart_filter()\n\u001B[0;32m---> 72\u001B[0m     \u001B[38;5;28;01mreturn\u001B[39;00m draw(artist, renderer)\n\u001B[1;32m     73\u001B[0m \u001B[38;5;28;01mfinally\u001B[39;00m:\n\u001B[1;32m     74\u001B[0m     \u001B[38;5;28;01mif\u001B[39;00m artist\u001B[38;5;241m.\u001B[39mget_agg_filter() \u001B[38;5;129;01mis\u001B[39;00m \u001B[38;5;129;01mnot\u001B[39;00m \u001B[38;5;28;01mNone\u001B[39;00m:\n",
      "File \u001B[0;32m~/anaconda3/lib/python3.11/site-packages/matplotlib/axes/_base.py:3064\u001B[0m, in \u001B[0;36m_AxesBase.draw\u001B[0;34m(self, renderer)\u001B[0m\n\u001B[1;32m   3061\u001B[0m \u001B[38;5;28;01mif\u001B[39;00m artists_rasterized:\n\u001B[1;32m   3062\u001B[0m     _draw_rasterized(\u001B[38;5;28mself\u001B[39m\u001B[38;5;241m.\u001B[39mfigure, artists_rasterized, renderer)\n\u001B[0;32m-> 3064\u001B[0m mimage\u001B[38;5;241m.\u001B[39m_draw_list_compositing_images(\n\u001B[1;32m   3065\u001B[0m     renderer, \u001B[38;5;28mself\u001B[39m, artists, \u001B[38;5;28mself\u001B[39m\u001B[38;5;241m.\u001B[39mfigure\u001B[38;5;241m.\u001B[39msuppressComposite)\n\u001B[1;32m   3067\u001B[0m renderer\u001B[38;5;241m.\u001B[39mclose_group(\u001B[38;5;124m'\u001B[39m\u001B[38;5;124maxes\u001B[39m\u001B[38;5;124m'\u001B[39m)\n\u001B[1;32m   3068\u001B[0m \u001B[38;5;28mself\u001B[39m\u001B[38;5;241m.\u001B[39mstale \u001B[38;5;241m=\u001B[39m \u001B[38;5;28;01mFalse\u001B[39;00m\n",
      "File \u001B[0;32m~/anaconda3/lib/python3.11/site-packages/matplotlib/image.py:131\u001B[0m, in \u001B[0;36m_draw_list_compositing_images\u001B[0;34m(renderer, parent, artists, suppress_composite)\u001B[0m\n\u001B[1;32m    129\u001B[0m \u001B[38;5;28;01mif\u001B[39;00m not_composite \u001B[38;5;129;01mor\u001B[39;00m \u001B[38;5;129;01mnot\u001B[39;00m has_images:\n\u001B[1;32m    130\u001B[0m     \u001B[38;5;28;01mfor\u001B[39;00m a \u001B[38;5;129;01min\u001B[39;00m artists:\n\u001B[0;32m--> 131\u001B[0m         a\u001B[38;5;241m.\u001B[39mdraw(renderer)\n\u001B[1;32m    132\u001B[0m \u001B[38;5;28;01melse\u001B[39;00m:\n\u001B[1;32m    133\u001B[0m     \u001B[38;5;66;03m# Composite any adjacent images together\u001B[39;00m\n\u001B[1;32m    134\u001B[0m     image_group \u001B[38;5;241m=\u001B[39m []\n",
      "File \u001B[0;32m~/anaconda3/lib/python3.11/site-packages/matplotlib/artist.py:72\u001B[0m, in \u001B[0;36mallow_rasterization.<locals>.draw_wrapper\u001B[0;34m(artist, renderer)\u001B[0m\n\u001B[1;32m     69\u001B[0m     \u001B[38;5;28;01mif\u001B[39;00m artist\u001B[38;5;241m.\u001B[39mget_agg_filter() \u001B[38;5;129;01mis\u001B[39;00m \u001B[38;5;129;01mnot\u001B[39;00m \u001B[38;5;28;01mNone\u001B[39;00m:\n\u001B[1;32m     70\u001B[0m         renderer\u001B[38;5;241m.\u001B[39mstart_filter()\n\u001B[0;32m---> 72\u001B[0m     \u001B[38;5;28;01mreturn\u001B[39;00m draw(artist, renderer)\n\u001B[1;32m     73\u001B[0m \u001B[38;5;28;01mfinally\u001B[39;00m:\n\u001B[1;32m     74\u001B[0m     \u001B[38;5;28;01mif\u001B[39;00m artist\u001B[38;5;241m.\u001B[39mget_agg_filter() \u001B[38;5;129;01mis\u001B[39;00m \u001B[38;5;129;01mnot\u001B[39;00m \u001B[38;5;28;01mNone\u001B[39;00m:\n",
      "File \u001B[0;32m~/anaconda3/lib/python3.11/site-packages/matplotlib/text.py:752\u001B[0m, in \u001B[0;36mText.draw\u001B[0;34m(self, renderer)\u001B[0m\n\u001B[1;32m    749\u001B[0m renderer\u001B[38;5;241m.\u001B[39mopen_group(\u001B[38;5;124m'\u001B[39m\u001B[38;5;124mtext\u001B[39m\u001B[38;5;124m'\u001B[39m, \u001B[38;5;28mself\u001B[39m\u001B[38;5;241m.\u001B[39mget_gid())\n\u001B[1;32m    751\u001B[0m \u001B[38;5;28;01mwith\u001B[39;00m \u001B[38;5;28mself\u001B[39m\u001B[38;5;241m.\u001B[39m_cm_set(text\u001B[38;5;241m=\u001B[39m\u001B[38;5;28mself\u001B[39m\u001B[38;5;241m.\u001B[39m_get_wrapped_text()):\n\u001B[0;32m--> 752\u001B[0m     bbox, info, descent \u001B[38;5;241m=\u001B[39m \u001B[38;5;28mself\u001B[39m\u001B[38;5;241m.\u001B[39m_get_layout(renderer)\n\u001B[1;32m    753\u001B[0m     trans \u001B[38;5;241m=\u001B[39m \u001B[38;5;28mself\u001B[39m\u001B[38;5;241m.\u001B[39mget_transform()\n\u001B[1;32m    755\u001B[0m     \u001B[38;5;66;03m# don't use self.get_position here, which refers to text\u001B[39;00m\n\u001B[1;32m    756\u001B[0m     \u001B[38;5;66;03m# position in Text:\u001B[39;00m\n",
      "File \u001B[0;32m~/anaconda3/lib/python3.11/site-packages/matplotlib/text.py:386\u001B[0m, in \u001B[0;36mText._get_layout\u001B[0;34m(self, renderer)\u001B[0m\n\u001B[1;32m    384\u001B[0m clean_line, ismath \u001B[38;5;241m=\u001B[39m \u001B[38;5;28mself\u001B[39m\u001B[38;5;241m.\u001B[39m_preprocess_math(line)\n\u001B[1;32m    385\u001B[0m \u001B[38;5;28;01mif\u001B[39;00m clean_line:\n\u001B[0;32m--> 386\u001B[0m     w, h, d \u001B[38;5;241m=\u001B[39m _get_text_metrics_with_cache(\n\u001B[1;32m    387\u001B[0m         renderer, clean_line, \u001B[38;5;28mself\u001B[39m\u001B[38;5;241m.\u001B[39m_fontproperties,\n\u001B[1;32m    388\u001B[0m         ismath\u001B[38;5;241m=\u001B[39mismath, dpi\u001B[38;5;241m=\u001B[39m\u001B[38;5;28mself\u001B[39m\u001B[38;5;241m.\u001B[39mfigure\u001B[38;5;241m.\u001B[39mdpi)\n\u001B[1;32m    389\u001B[0m \u001B[38;5;28;01melse\u001B[39;00m:\n\u001B[1;32m    390\u001B[0m     w \u001B[38;5;241m=\u001B[39m h \u001B[38;5;241m=\u001B[39m d \u001B[38;5;241m=\u001B[39m \u001B[38;5;241m0\u001B[39m\n",
      "File \u001B[0;32m~/anaconda3/lib/python3.11/site-packages/matplotlib/text.py:97\u001B[0m, in \u001B[0;36m_get_text_metrics_with_cache\u001B[0;34m(renderer, text, fontprop, ismath, dpi)\u001B[0m\n\u001B[1;32m     94\u001B[0m \u001B[38;5;250m\u001B[39m\u001B[38;5;124;03m\"\"\"Call ``renderer.get_text_width_height_descent``, caching the results.\"\"\"\u001B[39;00m\n\u001B[1;32m     95\u001B[0m \u001B[38;5;66;03m# Cached based on a copy of fontprop so that later in-place mutations of\u001B[39;00m\n\u001B[1;32m     96\u001B[0m \u001B[38;5;66;03m# the passed-in argument do not mess up the cache.\u001B[39;00m\n\u001B[0;32m---> 97\u001B[0m \u001B[38;5;28;01mreturn\u001B[39;00m _get_text_metrics_with_cache_impl(\n\u001B[1;32m     98\u001B[0m     weakref\u001B[38;5;241m.\u001B[39mref(renderer), text, fontprop\u001B[38;5;241m.\u001B[39mcopy(), ismath, dpi)\n",
      "File \u001B[0;32m~/anaconda3/lib/python3.11/site-packages/matplotlib/text.py:105\u001B[0m, in \u001B[0;36m_get_text_metrics_with_cache_impl\u001B[0;34m(renderer_ref, text, fontprop, ismath, dpi)\u001B[0m\n\u001B[1;32m    101\u001B[0m \u001B[38;5;129m@functools\u001B[39m\u001B[38;5;241m.\u001B[39mlru_cache(\u001B[38;5;241m4096\u001B[39m)\n\u001B[1;32m    102\u001B[0m \u001B[38;5;28;01mdef\u001B[39;00m \u001B[38;5;21m_get_text_metrics_with_cache_impl\u001B[39m(\n\u001B[1;32m    103\u001B[0m         renderer_ref, text, fontprop, ismath, dpi):\n\u001B[1;32m    104\u001B[0m     \u001B[38;5;66;03m# dpi is unused, but participates in cache invalidation (via the renderer).\u001B[39;00m\n\u001B[0;32m--> 105\u001B[0m     \u001B[38;5;28;01mreturn\u001B[39;00m renderer_ref()\u001B[38;5;241m.\u001B[39mget_text_width_height_descent(text, fontprop, ismath)\n",
      "File \u001B[0;32m~/anaconda3/lib/python3.11/site-packages/matplotlib/backends/backend_agg.py:230\u001B[0m, in \u001B[0;36mRendererAgg.get_text_width_height_descent\u001B[0;34m(self, s, prop, ismath)\u001B[0m\n\u001B[1;32m    226\u001B[0m     \u001B[38;5;28;01mreturn\u001B[39;00m \u001B[38;5;28msuper\u001B[39m()\u001B[38;5;241m.\u001B[39mget_text_width_height_descent(s, prop, ismath)\n\u001B[1;32m    228\u001B[0m \u001B[38;5;28;01mif\u001B[39;00m ismath:\n\u001B[1;32m    229\u001B[0m     ox, oy, width, height, descent, font_image \u001B[38;5;241m=\u001B[39m \\\n\u001B[0;32m--> 230\u001B[0m         \u001B[38;5;28mself\u001B[39m\u001B[38;5;241m.\u001B[39mmathtext_parser\u001B[38;5;241m.\u001B[39mparse(s, \u001B[38;5;28mself\u001B[39m\u001B[38;5;241m.\u001B[39mdpi, prop)\n\u001B[1;32m    231\u001B[0m     \u001B[38;5;28;01mreturn\u001B[39;00m width, height, descent\n\u001B[1;32m    233\u001B[0m font \u001B[38;5;241m=\u001B[39m \u001B[38;5;28mself\u001B[39m\u001B[38;5;241m.\u001B[39m_prepare_font(prop)\n",
      "File \u001B[0;32m~/anaconda3/lib/python3.11/site-packages/matplotlib/mathtext.py:226\u001B[0m, in \u001B[0;36mMathTextParser.parse\u001B[0;34m(self, s, dpi, prop)\u001B[0m\n\u001B[1;32m    222\u001B[0m \u001B[38;5;66;03m# lru_cache can't decorate parse() directly because prop\u001B[39;00m\n\u001B[1;32m    223\u001B[0m \u001B[38;5;66;03m# is mutable; key the cache using an internal copy (see\u001B[39;00m\n\u001B[1;32m    224\u001B[0m \u001B[38;5;66;03m# text._get_text_metrics_with_cache for a similar case).\u001B[39;00m\n\u001B[1;32m    225\u001B[0m prop \u001B[38;5;241m=\u001B[39m prop\u001B[38;5;241m.\u001B[39mcopy() \u001B[38;5;28;01mif\u001B[39;00m prop \u001B[38;5;129;01mis\u001B[39;00m \u001B[38;5;129;01mnot\u001B[39;00m \u001B[38;5;28;01mNone\u001B[39;00m \u001B[38;5;28;01melse\u001B[39;00m \u001B[38;5;28;01mNone\u001B[39;00m\n\u001B[0;32m--> 226\u001B[0m \u001B[38;5;28;01mreturn\u001B[39;00m \u001B[38;5;28mself\u001B[39m\u001B[38;5;241m.\u001B[39m_parse_cached(s, dpi, prop)\n",
      "File \u001B[0;32m~/anaconda3/lib/python3.11/site-packages/matplotlib/mathtext.py:247\u001B[0m, in \u001B[0;36mMathTextParser._parse_cached\u001B[0;34m(self, s, dpi, prop)\u001B[0m\n\u001B[1;32m    244\u001B[0m \u001B[38;5;28;01mif\u001B[39;00m \u001B[38;5;28mself\u001B[39m\u001B[38;5;241m.\u001B[39m_parser \u001B[38;5;129;01mis\u001B[39;00m \u001B[38;5;28;01mNone\u001B[39;00m:  \u001B[38;5;66;03m# Cache the parser globally.\u001B[39;00m\n\u001B[1;32m    245\u001B[0m     \u001B[38;5;28mself\u001B[39m\u001B[38;5;241m.\u001B[39m\u001B[38;5;18m__class__\u001B[39m\u001B[38;5;241m.\u001B[39m_parser \u001B[38;5;241m=\u001B[39m _mathtext\u001B[38;5;241m.\u001B[39mParser()\n\u001B[0;32m--> 247\u001B[0m box \u001B[38;5;241m=\u001B[39m \u001B[38;5;28mself\u001B[39m\u001B[38;5;241m.\u001B[39m_parser\u001B[38;5;241m.\u001B[39mparse(s, fontset, fontsize, dpi)\n\u001B[1;32m    248\u001B[0m output \u001B[38;5;241m=\u001B[39m _mathtext\u001B[38;5;241m.\u001B[39mship(box)\n\u001B[1;32m    249\u001B[0m \u001B[38;5;28;01mif\u001B[39;00m \u001B[38;5;28mself\u001B[39m\u001B[38;5;241m.\u001B[39m_output_type \u001B[38;5;241m==\u001B[39m \u001B[38;5;124m\"\u001B[39m\u001B[38;5;124mvector\u001B[39m\u001B[38;5;124m\"\u001B[39m:\n",
      "File \u001B[0;32m~/anaconda3/lib/python3.11/site-packages/matplotlib/_mathtext.py:1995\u001B[0m, in \u001B[0;36mParser.parse\u001B[0;34m(self, s, fonts_object, fontsize, dpi)\u001B[0m\n\u001B[1;32m   1992\u001B[0m     result \u001B[38;5;241m=\u001B[39m \u001B[38;5;28mself\u001B[39m\u001B[38;5;241m.\u001B[39m_expression\u001B[38;5;241m.\u001B[39mparseString(s)\n\u001B[1;32m   1993\u001B[0m \u001B[38;5;28;01mexcept\u001B[39;00m ParseBaseException \u001B[38;5;28;01mas\u001B[39;00m err:\n\u001B[1;32m   1994\u001B[0m     \u001B[38;5;66;03m# explain becomes a plain method on pyparsing 3 (err.explain(0)).\u001B[39;00m\n\u001B[0;32m-> 1995\u001B[0m     \u001B[38;5;28;01mraise\u001B[39;00m \u001B[38;5;167;01mValueError\u001B[39;00m(\u001B[38;5;124m\"\u001B[39m\u001B[38;5;130;01m\\n\u001B[39;00m\u001B[38;5;124m\"\u001B[39m \u001B[38;5;241m+\u001B[39m ParseException\u001B[38;5;241m.\u001B[39mexplain(err, \u001B[38;5;241m0\u001B[39m)) \u001B[38;5;28;01mfrom\u001B[39;00m \u001B[38;5;28;01mNone\u001B[39;00m\n\u001B[1;32m   1996\u001B[0m \u001B[38;5;28mself\u001B[39m\u001B[38;5;241m.\u001B[39m_state_stack \u001B[38;5;241m=\u001B[39m \u001B[38;5;28;01mNone\u001B[39;00m\n\u001B[1;32m   1997\u001B[0m \u001B[38;5;28mself\u001B[39m\u001B[38;5;241m.\u001B[39m_in_subscript_or_superscript \u001B[38;5;241m=\u001B[39m \u001B[38;5;28;01mFalse\u001B[39;00m\n",
      "\u001B[0;31mValueError\u001B[0m: \n\\phi_i(v) = \\sum_{S \\subseteq N \\setminus \\{i\\}} \\frac{|S|! \\, (|N| - |S| - 1)!}{|N|!} \\big(v(S \\cup \\{i\\}) - v(S)\\big)\n                                ^\nParseSyntaxException: Unknown symbol: \\setminus, found '\\'  (at char 32), (line:1, col:33)"
     ]
    },
    {
     "ename": "ValueError",
     "evalue": "\n\\phi_i(v) = \\sum_{S \\subseteq N \\setminus \\{i\\}} \\frac{|S|! \\, (|N| - |S| - 1)!}{|N|!} \\big(v(S \\cup \\{i\\}) - v(S)\\big)\n                                ^\nParseSyntaxException: Unknown symbol: \\setminus, found '\\'  (at char 32), (line:1, col:33)",
     "output_type": "error",
     "traceback": [
      "\u001B[0;31m---------------------------------------------------------------------------\u001B[0m",
      "\u001B[0;31mValueError\u001B[0m                                Traceback (most recent call last)",
      "File \u001B[0;32m~/anaconda3/lib/python3.11/site-packages/IPython/core/formatters.py:340\u001B[0m, in \u001B[0;36mBaseFormatter.__call__\u001B[0;34m(self, obj)\u001B[0m\n\u001B[1;32m    338\u001B[0m     \u001B[38;5;28;01mpass\u001B[39;00m\n\u001B[1;32m    339\u001B[0m \u001B[38;5;28;01melse\u001B[39;00m:\n\u001B[0;32m--> 340\u001B[0m     \u001B[38;5;28;01mreturn\u001B[39;00m printer(obj)\n\u001B[1;32m    341\u001B[0m \u001B[38;5;66;03m# Finally look for special method names\u001B[39;00m\n\u001B[1;32m    342\u001B[0m method \u001B[38;5;241m=\u001B[39m get_real_method(obj, \u001B[38;5;28mself\u001B[39m\u001B[38;5;241m.\u001B[39mprint_method)\n",
      "File \u001B[0;32m~/anaconda3/lib/python3.11/site-packages/IPython/core/pylabtools.py:152\u001B[0m, in \u001B[0;36mprint_figure\u001B[0;34m(fig, fmt, bbox_inches, base64, **kwargs)\u001B[0m\n\u001B[1;32m    149\u001B[0m     \u001B[38;5;28;01mfrom\u001B[39;00m \u001B[38;5;21;01mmatplotlib\u001B[39;00m\u001B[38;5;21;01m.\u001B[39;00m\u001B[38;5;21;01mbackend_bases\u001B[39;00m \u001B[38;5;28;01mimport\u001B[39;00m FigureCanvasBase\n\u001B[1;32m    150\u001B[0m     FigureCanvasBase(fig)\n\u001B[0;32m--> 152\u001B[0m fig\u001B[38;5;241m.\u001B[39mcanvas\u001B[38;5;241m.\u001B[39mprint_figure(bytes_io, \u001B[38;5;241m*\u001B[39m\u001B[38;5;241m*\u001B[39mkw)\n\u001B[1;32m    153\u001B[0m data \u001B[38;5;241m=\u001B[39m bytes_io\u001B[38;5;241m.\u001B[39mgetvalue()\n\u001B[1;32m    154\u001B[0m \u001B[38;5;28;01mif\u001B[39;00m fmt \u001B[38;5;241m==\u001B[39m \u001B[38;5;124m'\u001B[39m\u001B[38;5;124msvg\u001B[39m\u001B[38;5;124m'\u001B[39m:\n",
      "File \u001B[0;32m~/anaconda3/lib/python3.11/site-packages/matplotlib/backend_bases.py:2342\u001B[0m, in \u001B[0;36mFigureCanvasBase.print_figure\u001B[0;34m(self, filename, dpi, facecolor, edgecolor, orientation, format, bbox_inches, pad_inches, bbox_extra_artists, backend, **kwargs)\u001B[0m\n\u001B[1;32m   2336\u001B[0m     renderer \u001B[38;5;241m=\u001B[39m _get_renderer(\n\u001B[1;32m   2337\u001B[0m         \u001B[38;5;28mself\u001B[39m\u001B[38;5;241m.\u001B[39mfigure,\n\u001B[1;32m   2338\u001B[0m         functools\u001B[38;5;241m.\u001B[39mpartial(\n\u001B[1;32m   2339\u001B[0m             print_method, orientation\u001B[38;5;241m=\u001B[39morientation)\n\u001B[1;32m   2340\u001B[0m     )\n\u001B[1;32m   2341\u001B[0m     \u001B[38;5;28;01mwith\u001B[39;00m \u001B[38;5;28mgetattr\u001B[39m(renderer, \u001B[38;5;124m\"\u001B[39m\u001B[38;5;124m_draw_disabled\u001B[39m\u001B[38;5;124m\"\u001B[39m, nullcontext)():\n\u001B[0;32m-> 2342\u001B[0m         \u001B[38;5;28mself\u001B[39m\u001B[38;5;241m.\u001B[39mfigure\u001B[38;5;241m.\u001B[39mdraw(renderer)\n\u001B[1;32m   2344\u001B[0m \u001B[38;5;28;01mif\u001B[39;00m bbox_inches:\n\u001B[1;32m   2345\u001B[0m     \u001B[38;5;28;01mif\u001B[39;00m bbox_inches \u001B[38;5;241m==\u001B[39m \u001B[38;5;124m\"\u001B[39m\u001B[38;5;124mtight\u001B[39m\u001B[38;5;124m\"\u001B[39m:\n",
      "File \u001B[0;32m~/anaconda3/lib/python3.11/site-packages/matplotlib/artist.py:95\u001B[0m, in \u001B[0;36m_finalize_rasterization.<locals>.draw_wrapper\u001B[0;34m(artist, renderer, *args, **kwargs)\u001B[0m\n\u001B[1;32m     93\u001B[0m \u001B[38;5;129m@wraps\u001B[39m(draw)\n\u001B[1;32m     94\u001B[0m \u001B[38;5;28;01mdef\u001B[39;00m \u001B[38;5;21mdraw_wrapper\u001B[39m(artist, renderer, \u001B[38;5;241m*\u001B[39margs, \u001B[38;5;241m*\u001B[39m\u001B[38;5;241m*\u001B[39mkwargs):\n\u001B[0;32m---> 95\u001B[0m     result \u001B[38;5;241m=\u001B[39m draw(artist, renderer, \u001B[38;5;241m*\u001B[39margs, \u001B[38;5;241m*\u001B[39m\u001B[38;5;241m*\u001B[39mkwargs)\n\u001B[1;32m     96\u001B[0m     \u001B[38;5;28;01mif\u001B[39;00m renderer\u001B[38;5;241m.\u001B[39m_rasterizing:\n\u001B[1;32m     97\u001B[0m         renderer\u001B[38;5;241m.\u001B[39mstop_rasterizing()\n",
      "File \u001B[0;32m~/anaconda3/lib/python3.11/site-packages/matplotlib/artist.py:72\u001B[0m, in \u001B[0;36mallow_rasterization.<locals>.draw_wrapper\u001B[0;34m(artist, renderer)\u001B[0m\n\u001B[1;32m     69\u001B[0m     \u001B[38;5;28;01mif\u001B[39;00m artist\u001B[38;5;241m.\u001B[39mget_agg_filter() \u001B[38;5;129;01mis\u001B[39;00m \u001B[38;5;129;01mnot\u001B[39;00m \u001B[38;5;28;01mNone\u001B[39;00m:\n\u001B[1;32m     70\u001B[0m         renderer\u001B[38;5;241m.\u001B[39mstart_filter()\n\u001B[0;32m---> 72\u001B[0m     \u001B[38;5;28;01mreturn\u001B[39;00m draw(artist, renderer)\n\u001B[1;32m     73\u001B[0m \u001B[38;5;28;01mfinally\u001B[39;00m:\n\u001B[1;32m     74\u001B[0m     \u001B[38;5;28;01mif\u001B[39;00m artist\u001B[38;5;241m.\u001B[39mget_agg_filter() \u001B[38;5;129;01mis\u001B[39;00m \u001B[38;5;129;01mnot\u001B[39;00m \u001B[38;5;28;01mNone\u001B[39;00m:\n",
      "File \u001B[0;32m~/anaconda3/lib/python3.11/site-packages/matplotlib/figure.py:3175\u001B[0m, in \u001B[0;36mFigure.draw\u001B[0;34m(self, renderer)\u001B[0m\n\u001B[1;32m   3172\u001B[0m         \u001B[38;5;66;03m# ValueError can occur when resizing a window.\u001B[39;00m\n\u001B[1;32m   3174\u001B[0m \u001B[38;5;28mself\u001B[39m\u001B[38;5;241m.\u001B[39mpatch\u001B[38;5;241m.\u001B[39mdraw(renderer)\n\u001B[0;32m-> 3175\u001B[0m mimage\u001B[38;5;241m.\u001B[39m_draw_list_compositing_images(\n\u001B[1;32m   3176\u001B[0m     renderer, \u001B[38;5;28mself\u001B[39m, artists, \u001B[38;5;28mself\u001B[39m\u001B[38;5;241m.\u001B[39msuppressComposite)\n\u001B[1;32m   3178\u001B[0m \u001B[38;5;28;01mfor\u001B[39;00m sfig \u001B[38;5;129;01min\u001B[39;00m \u001B[38;5;28mself\u001B[39m\u001B[38;5;241m.\u001B[39msubfigs:\n\u001B[1;32m   3179\u001B[0m     sfig\u001B[38;5;241m.\u001B[39mdraw(renderer)\n",
      "File \u001B[0;32m~/anaconda3/lib/python3.11/site-packages/matplotlib/image.py:131\u001B[0m, in \u001B[0;36m_draw_list_compositing_images\u001B[0;34m(renderer, parent, artists, suppress_composite)\u001B[0m\n\u001B[1;32m    129\u001B[0m \u001B[38;5;28;01mif\u001B[39;00m not_composite \u001B[38;5;129;01mor\u001B[39;00m \u001B[38;5;129;01mnot\u001B[39;00m has_images:\n\u001B[1;32m    130\u001B[0m     \u001B[38;5;28;01mfor\u001B[39;00m a \u001B[38;5;129;01min\u001B[39;00m artists:\n\u001B[0;32m--> 131\u001B[0m         a\u001B[38;5;241m.\u001B[39mdraw(renderer)\n\u001B[1;32m    132\u001B[0m \u001B[38;5;28;01melse\u001B[39;00m:\n\u001B[1;32m    133\u001B[0m     \u001B[38;5;66;03m# Composite any adjacent images together\u001B[39;00m\n\u001B[1;32m    134\u001B[0m     image_group \u001B[38;5;241m=\u001B[39m []\n",
      "File \u001B[0;32m~/anaconda3/lib/python3.11/site-packages/matplotlib/artist.py:72\u001B[0m, in \u001B[0;36mallow_rasterization.<locals>.draw_wrapper\u001B[0;34m(artist, renderer)\u001B[0m\n\u001B[1;32m     69\u001B[0m     \u001B[38;5;28;01mif\u001B[39;00m artist\u001B[38;5;241m.\u001B[39mget_agg_filter() \u001B[38;5;129;01mis\u001B[39;00m \u001B[38;5;129;01mnot\u001B[39;00m \u001B[38;5;28;01mNone\u001B[39;00m:\n\u001B[1;32m     70\u001B[0m         renderer\u001B[38;5;241m.\u001B[39mstart_filter()\n\u001B[0;32m---> 72\u001B[0m     \u001B[38;5;28;01mreturn\u001B[39;00m draw(artist, renderer)\n\u001B[1;32m     73\u001B[0m \u001B[38;5;28;01mfinally\u001B[39;00m:\n\u001B[1;32m     74\u001B[0m     \u001B[38;5;28;01mif\u001B[39;00m artist\u001B[38;5;241m.\u001B[39mget_agg_filter() \u001B[38;5;129;01mis\u001B[39;00m \u001B[38;5;129;01mnot\u001B[39;00m \u001B[38;5;28;01mNone\u001B[39;00m:\n",
      "File \u001B[0;32m~/anaconda3/lib/python3.11/site-packages/matplotlib/axes/_base.py:3064\u001B[0m, in \u001B[0;36m_AxesBase.draw\u001B[0;34m(self, renderer)\u001B[0m\n\u001B[1;32m   3061\u001B[0m \u001B[38;5;28;01mif\u001B[39;00m artists_rasterized:\n\u001B[1;32m   3062\u001B[0m     _draw_rasterized(\u001B[38;5;28mself\u001B[39m\u001B[38;5;241m.\u001B[39mfigure, artists_rasterized, renderer)\n\u001B[0;32m-> 3064\u001B[0m mimage\u001B[38;5;241m.\u001B[39m_draw_list_compositing_images(\n\u001B[1;32m   3065\u001B[0m     renderer, \u001B[38;5;28mself\u001B[39m, artists, \u001B[38;5;28mself\u001B[39m\u001B[38;5;241m.\u001B[39mfigure\u001B[38;5;241m.\u001B[39msuppressComposite)\n\u001B[1;32m   3067\u001B[0m renderer\u001B[38;5;241m.\u001B[39mclose_group(\u001B[38;5;124m'\u001B[39m\u001B[38;5;124maxes\u001B[39m\u001B[38;5;124m'\u001B[39m)\n\u001B[1;32m   3068\u001B[0m \u001B[38;5;28mself\u001B[39m\u001B[38;5;241m.\u001B[39mstale \u001B[38;5;241m=\u001B[39m \u001B[38;5;28;01mFalse\u001B[39;00m\n",
      "File \u001B[0;32m~/anaconda3/lib/python3.11/site-packages/matplotlib/image.py:131\u001B[0m, in \u001B[0;36m_draw_list_compositing_images\u001B[0;34m(renderer, parent, artists, suppress_composite)\u001B[0m\n\u001B[1;32m    129\u001B[0m \u001B[38;5;28;01mif\u001B[39;00m not_composite \u001B[38;5;129;01mor\u001B[39;00m \u001B[38;5;129;01mnot\u001B[39;00m has_images:\n\u001B[1;32m    130\u001B[0m     \u001B[38;5;28;01mfor\u001B[39;00m a \u001B[38;5;129;01min\u001B[39;00m artists:\n\u001B[0;32m--> 131\u001B[0m         a\u001B[38;5;241m.\u001B[39mdraw(renderer)\n\u001B[1;32m    132\u001B[0m \u001B[38;5;28;01melse\u001B[39;00m:\n\u001B[1;32m    133\u001B[0m     \u001B[38;5;66;03m# Composite any adjacent images together\u001B[39;00m\n\u001B[1;32m    134\u001B[0m     image_group \u001B[38;5;241m=\u001B[39m []\n",
      "File \u001B[0;32m~/anaconda3/lib/python3.11/site-packages/matplotlib/artist.py:72\u001B[0m, in \u001B[0;36mallow_rasterization.<locals>.draw_wrapper\u001B[0;34m(artist, renderer)\u001B[0m\n\u001B[1;32m     69\u001B[0m     \u001B[38;5;28;01mif\u001B[39;00m artist\u001B[38;5;241m.\u001B[39mget_agg_filter() \u001B[38;5;129;01mis\u001B[39;00m \u001B[38;5;129;01mnot\u001B[39;00m \u001B[38;5;28;01mNone\u001B[39;00m:\n\u001B[1;32m     70\u001B[0m         renderer\u001B[38;5;241m.\u001B[39mstart_filter()\n\u001B[0;32m---> 72\u001B[0m     \u001B[38;5;28;01mreturn\u001B[39;00m draw(artist, renderer)\n\u001B[1;32m     73\u001B[0m \u001B[38;5;28;01mfinally\u001B[39;00m:\n\u001B[1;32m     74\u001B[0m     \u001B[38;5;28;01mif\u001B[39;00m artist\u001B[38;5;241m.\u001B[39mget_agg_filter() \u001B[38;5;129;01mis\u001B[39;00m \u001B[38;5;129;01mnot\u001B[39;00m \u001B[38;5;28;01mNone\u001B[39;00m:\n",
      "File \u001B[0;32m~/anaconda3/lib/python3.11/site-packages/matplotlib/text.py:752\u001B[0m, in \u001B[0;36mText.draw\u001B[0;34m(self, renderer)\u001B[0m\n\u001B[1;32m    749\u001B[0m renderer\u001B[38;5;241m.\u001B[39mopen_group(\u001B[38;5;124m'\u001B[39m\u001B[38;5;124mtext\u001B[39m\u001B[38;5;124m'\u001B[39m, \u001B[38;5;28mself\u001B[39m\u001B[38;5;241m.\u001B[39mget_gid())\n\u001B[1;32m    751\u001B[0m \u001B[38;5;28;01mwith\u001B[39;00m \u001B[38;5;28mself\u001B[39m\u001B[38;5;241m.\u001B[39m_cm_set(text\u001B[38;5;241m=\u001B[39m\u001B[38;5;28mself\u001B[39m\u001B[38;5;241m.\u001B[39m_get_wrapped_text()):\n\u001B[0;32m--> 752\u001B[0m     bbox, info, descent \u001B[38;5;241m=\u001B[39m \u001B[38;5;28mself\u001B[39m\u001B[38;5;241m.\u001B[39m_get_layout(renderer)\n\u001B[1;32m    753\u001B[0m     trans \u001B[38;5;241m=\u001B[39m \u001B[38;5;28mself\u001B[39m\u001B[38;5;241m.\u001B[39mget_transform()\n\u001B[1;32m    755\u001B[0m     \u001B[38;5;66;03m# don't use self.get_position here, which refers to text\u001B[39;00m\n\u001B[1;32m    756\u001B[0m     \u001B[38;5;66;03m# position in Text:\u001B[39;00m\n",
      "File \u001B[0;32m~/anaconda3/lib/python3.11/site-packages/matplotlib/text.py:386\u001B[0m, in \u001B[0;36mText._get_layout\u001B[0;34m(self, renderer)\u001B[0m\n\u001B[1;32m    384\u001B[0m clean_line, ismath \u001B[38;5;241m=\u001B[39m \u001B[38;5;28mself\u001B[39m\u001B[38;5;241m.\u001B[39m_preprocess_math(line)\n\u001B[1;32m    385\u001B[0m \u001B[38;5;28;01mif\u001B[39;00m clean_line:\n\u001B[0;32m--> 386\u001B[0m     w, h, d \u001B[38;5;241m=\u001B[39m _get_text_metrics_with_cache(\n\u001B[1;32m    387\u001B[0m         renderer, clean_line, \u001B[38;5;28mself\u001B[39m\u001B[38;5;241m.\u001B[39m_fontproperties,\n\u001B[1;32m    388\u001B[0m         ismath\u001B[38;5;241m=\u001B[39mismath, dpi\u001B[38;5;241m=\u001B[39m\u001B[38;5;28mself\u001B[39m\u001B[38;5;241m.\u001B[39mfigure\u001B[38;5;241m.\u001B[39mdpi)\n\u001B[1;32m    389\u001B[0m \u001B[38;5;28;01melse\u001B[39;00m:\n\u001B[1;32m    390\u001B[0m     w \u001B[38;5;241m=\u001B[39m h \u001B[38;5;241m=\u001B[39m d \u001B[38;5;241m=\u001B[39m \u001B[38;5;241m0\u001B[39m\n",
      "File \u001B[0;32m~/anaconda3/lib/python3.11/site-packages/matplotlib/text.py:97\u001B[0m, in \u001B[0;36m_get_text_metrics_with_cache\u001B[0;34m(renderer, text, fontprop, ismath, dpi)\u001B[0m\n\u001B[1;32m     94\u001B[0m \u001B[38;5;250m\u001B[39m\u001B[38;5;124;03m\"\"\"Call ``renderer.get_text_width_height_descent``, caching the results.\"\"\"\u001B[39;00m\n\u001B[1;32m     95\u001B[0m \u001B[38;5;66;03m# Cached based on a copy of fontprop so that later in-place mutations of\u001B[39;00m\n\u001B[1;32m     96\u001B[0m \u001B[38;5;66;03m# the passed-in argument do not mess up the cache.\u001B[39;00m\n\u001B[0;32m---> 97\u001B[0m \u001B[38;5;28;01mreturn\u001B[39;00m _get_text_metrics_with_cache_impl(\n\u001B[1;32m     98\u001B[0m     weakref\u001B[38;5;241m.\u001B[39mref(renderer), text, fontprop\u001B[38;5;241m.\u001B[39mcopy(), ismath, dpi)\n",
      "File \u001B[0;32m~/anaconda3/lib/python3.11/site-packages/matplotlib/text.py:105\u001B[0m, in \u001B[0;36m_get_text_metrics_with_cache_impl\u001B[0;34m(renderer_ref, text, fontprop, ismath, dpi)\u001B[0m\n\u001B[1;32m    101\u001B[0m \u001B[38;5;129m@functools\u001B[39m\u001B[38;5;241m.\u001B[39mlru_cache(\u001B[38;5;241m4096\u001B[39m)\n\u001B[1;32m    102\u001B[0m \u001B[38;5;28;01mdef\u001B[39;00m \u001B[38;5;21m_get_text_metrics_with_cache_impl\u001B[39m(\n\u001B[1;32m    103\u001B[0m         renderer_ref, text, fontprop, ismath, dpi):\n\u001B[1;32m    104\u001B[0m     \u001B[38;5;66;03m# dpi is unused, but participates in cache invalidation (via the renderer).\u001B[39;00m\n\u001B[0;32m--> 105\u001B[0m     \u001B[38;5;28;01mreturn\u001B[39;00m renderer_ref()\u001B[38;5;241m.\u001B[39mget_text_width_height_descent(text, fontprop, ismath)\n",
      "File \u001B[0;32m~/anaconda3/lib/python3.11/site-packages/matplotlib/backends/backend_agg.py:230\u001B[0m, in \u001B[0;36mRendererAgg.get_text_width_height_descent\u001B[0;34m(self, s, prop, ismath)\u001B[0m\n\u001B[1;32m    226\u001B[0m     \u001B[38;5;28;01mreturn\u001B[39;00m \u001B[38;5;28msuper\u001B[39m()\u001B[38;5;241m.\u001B[39mget_text_width_height_descent(s, prop, ismath)\n\u001B[1;32m    228\u001B[0m \u001B[38;5;28;01mif\u001B[39;00m ismath:\n\u001B[1;32m    229\u001B[0m     ox, oy, width, height, descent, font_image \u001B[38;5;241m=\u001B[39m \\\n\u001B[0;32m--> 230\u001B[0m         \u001B[38;5;28mself\u001B[39m\u001B[38;5;241m.\u001B[39mmathtext_parser\u001B[38;5;241m.\u001B[39mparse(s, \u001B[38;5;28mself\u001B[39m\u001B[38;5;241m.\u001B[39mdpi, prop)\n\u001B[1;32m    231\u001B[0m     \u001B[38;5;28;01mreturn\u001B[39;00m width, height, descent\n\u001B[1;32m    233\u001B[0m font \u001B[38;5;241m=\u001B[39m \u001B[38;5;28mself\u001B[39m\u001B[38;5;241m.\u001B[39m_prepare_font(prop)\n",
      "File \u001B[0;32m~/anaconda3/lib/python3.11/site-packages/matplotlib/mathtext.py:226\u001B[0m, in \u001B[0;36mMathTextParser.parse\u001B[0;34m(self, s, dpi, prop)\u001B[0m\n\u001B[1;32m    222\u001B[0m \u001B[38;5;66;03m# lru_cache can't decorate parse() directly because prop\u001B[39;00m\n\u001B[1;32m    223\u001B[0m \u001B[38;5;66;03m# is mutable; key the cache using an internal copy (see\u001B[39;00m\n\u001B[1;32m    224\u001B[0m \u001B[38;5;66;03m# text._get_text_metrics_with_cache for a similar case).\u001B[39;00m\n\u001B[1;32m    225\u001B[0m prop \u001B[38;5;241m=\u001B[39m prop\u001B[38;5;241m.\u001B[39mcopy() \u001B[38;5;28;01mif\u001B[39;00m prop \u001B[38;5;129;01mis\u001B[39;00m \u001B[38;5;129;01mnot\u001B[39;00m \u001B[38;5;28;01mNone\u001B[39;00m \u001B[38;5;28;01melse\u001B[39;00m \u001B[38;5;28;01mNone\u001B[39;00m\n\u001B[0;32m--> 226\u001B[0m \u001B[38;5;28;01mreturn\u001B[39;00m \u001B[38;5;28mself\u001B[39m\u001B[38;5;241m.\u001B[39m_parse_cached(s, dpi, prop)\n",
      "File \u001B[0;32m~/anaconda3/lib/python3.11/site-packages/matplotlib/mathtext.py:247\u001B[0m, in \u001B[0;36mMathTextParser._parse_cached\u001B[0;34m(self, s, dpi, prop)\u001B[0m\n\u001B[1;32m    244\u001B[0m \u001B[38;5;28;01mif\u001B[39;00m \u001B[38;5;28mself\u001B[39m\u001B[38;5;241m.\u001B[39m_parser \u001B[38;5;129;01mis\u001B[39;00m \u001B[38;5;28;01mNone\u001B[39;00m:  \u001B[38;5;66;03m# Cache the parser globally.\u001B[39;00m\n\u001B[1;32m    245\u001B[0m     \u001B[38;5;28mself\u001B[39m\u001B[38;5;241m.\u001B[39m\u001B[38;5;18m__class__\u001B[39m\u001B[38;5;241m.\u001B[39m_parser \u001B[38;5;241m=\u001B[39m _mathtext\u001B[38;5;241m.\u001B[39mParser()\n\u001B[0;32m--> 247\u001B[0m box \u001B[38;5;241m=\u001B[39m \u001B[38;5;28mself\u001B[39m\u001B[38;5;241m.\u001B[39m_parser\u001B[38;5;241m.\u001B[39mparse(s, fontset, fontsize, dpi)\n\u001B[1;32m    248\u001B[0m output \u001B[38;5;241m=\u001B[39m _mathtext\u001B[38;5;241m.\u001B[39mship(box)\n\u001B[1;32m    249\u001B[0m \u001B[38;5;28;01mif\u001B[39;00m \u001B[38;5;28mself\u001B[39m\u001B[38;5;241m.\u001B[39m_output_type \u001B[38;5;241m==\u001B[39m \u001B[38;5;124m\"\u001B[39m\u001B[38;5;124mvector\u001B[39m\u001B[38;5;124m\"\u001B[39m:\n",
      "File \u001B[0;32m~/anaconda3/lib/python3.11/site-packages/matplotlib/_mathtext.py:1995\u001B[0m, in \u001B[0;36mParser.parse\u001B[0;34m(self, s, fonts_object, fontsize, dpi)\u001B[0m\n\u001B[1;32m   1992\u001B[0m     result \u001B[38;5;241m=\u001B[39m \u001B[38;5;28mself\u001B[39m\u001B[38;5;241m.\u001B[39m_expression\u001B[38;5;241m.\u001B[39mparseString(s)\n\u001B[1;32m   1993\u001B[0m \u001B[38;5;28;01mexcept\u001B[39;00m ParseBaseException \u001B[38;5;28;01mas\u001B[39;00m err:\n\u001B[1;32m   1994\u001B[0m     \u001B[38;5;66;03m# explain becomes a plain method on pyparsing 3 (err.explain(0)).\u001B[39;00m\n\u001B[0;32m-> 1995\u001B[0m     \u001B[38;5;28;01mraise\u001B[39;00m \u001B[38;5;167;01mValueError\u001B[39;00m(\u001B[38;5;124m\"\u001B[39m\u001B[38;5;130;01m\\n\u001B[39;00m\u001B[38;5;124m\"\u001B[39m \u001B[38;5;241m+\u001B[39m ParseException\u001B[38;5;241m.\u001B[39mexplain(err, \u001B[38;5;241m0\u001B[39m)) \u001B[38;5;28;01mfrom\u001B[39;00m \u001B[38;5;28;01mNone\u001B[39;00m\n\u001B[1;32m   1996\u001B[0m \u001B[38;5;28mself\u001B[39m\u001B[38;5;241m.\u001B[39m_state_stack \u001B[38;5;241m=\u001B[39m \u001B[38;5;28;01mNone\u001B[39;00m\n\u001B[1;32m   1997\u001B[0m \u001B[38;5;28mself\u001B[39m\u001B[38;5;241m.\u001B[39m_in_subscript_or_superscript \u001B[38;5;241m=\u001B[39m \u001B[38;5;28;01mFalse\u001B[39;00m\n",
      "\u001B[0;31mValueError\u001B[0m: \n\\phi_i(v) = \\sum_{S \\subseteq N \\setminus \\{i\\}} \\frac{|S|! \\, (|N| - |S| - 1)!}{|N|!} \\big(v(S \\cup \\{i\\}) - v(S)\\big)\n                                ^\nParseSyntaxException: Unknown symbol: \\setminus, found '\\'  (at char 32), (line:1, col:33)"
     ]
    },
    {
     "data": {
      "text/plain": [
       "<Figure size 800x200 with 1 Axes>"
      ]
     },
     "metadata": {},
     "output_type": "display_data"
    }
   ],
   "execution_count": 9
  },
  {
   "metadata": {
    "ExecuteTime": {
     "end_time": "2024-10-31T18:21:36.646097Z",
     "start_time": "2024-10-31T18:21:33.841949Z"
    }
   },
   "cell_type": "code",
   "source": "",
   "id": "632312b7a4678c18",
   "outputs": [
    {
     "name": "stderr",
     "output_type": "stream",
     "text": [
      "/var/folders/3w/q_m3rh1s5xv5bh0kfpcqmd9r0000gn/T/ipykernel_54983/1404348024.py:5: SettingWithCopyWarning: \n",
      "A value is trying to be set on a copy of a slice from a DataFrame.\n",
      "Try using .loc[row_indexer,col_indexer] = value instead\n",
      "\n",
      "See the caveats in the documentation: https://pandas.pydata.org/pandas-docs/stable/user_guide/indexing.html#returning-a-view-versus-a-copy\n",
      "  cleaned_df['GameDate'] = pd.to_datetime(cleaned_df['GameDate'])\n",
      "/var/folders/3w/q_m3rh1s5xv5bh0kfpcqmd9r0000gn/T/ipykernel_54983/1404348024.py:6: SettingWithCopyWarning: \n",
      "A value is trying to be set on a copy of a slice from a DataFrame.\n",
      "Try using .loc[row_indexer,col_indexer] = value instead\n",
      "\n",
      "See the caveats in the documentation: https://pandas.pydata.org/pandas-docs/stable/user_guide/indexing.html#returning-a-view-versus-a-copy\n",
      "  cleaned_df['Date'] = cleaned_df['GameDate'].dt.date\n",
      "/var/folders/3w/q_m3rh1s5xv5bh0kfpcqmd9r0000gn/T/ipykernel_54983/1404348024.py:7: SettingWithCopyWarning: \n",
      "A value is trying to be set on a copy of a slice from a DataFrame.\n",
      "Try using .loc[row_indexer,col_indexer] = value instead\n",
      "\n",
      "See the caveats in the documentation: https://pandas.pydata.org/pandas-docs/stable/user_guide/indexing.html#returning-a-view-versus-a-copy\n",
      "  cleaned_df['Time'] = cleaned_df['GameDate'].dt.time\n"
     ]
    }
   ],
   "execution_count": 19
  }
 ],
 "metadata": {
  "kernelspec": {
   "display_name": "Python 3",
   "language": "python",
   "name": "python3"
  },
  "language_info": {
   "codemirror_mode": {
    "name": "ipython",
    "version": 2
   },
   "file_extension": ".py",
   "mimetype": "text/x-python",
   "name": "python",
   "nbconvert_exporter": "python",
   "pygments_lexer": "ipython2",
   "version": "2.7.6"
  }
 },
 "nbformat": 4,
 "nbformat_minor": 5
}
