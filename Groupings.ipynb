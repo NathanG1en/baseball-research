{
 "cells": [
  {
   "metadata": {},
   "cell_type": "markdown",
   "source": [
    "## Things to keep in mind: \n",
    "\n",
    "We want to find a way to group pitchers/pitches, so we don't have a computational nightmare: "
   ],
   "id": "6bee21ac1c424d68"
  },
  {
   "metadata": {
    "ExecuteTime": {
     "end_time": "2024-09-19T17:36:51.263698Z",
     "start_time": "2024-09-19T17:36:51.258421Z"
    }
   },
   "cell_type": "code",
   "source": [
    "import numpy as np\n",
    "import pandas as pd \n",
    "import matplotlib.pyplot as plt"
   ],
   "id": "cc1a741fdaffa78a",
   "outputs": [],
   "execution_count": 15
  },
  {
   "metadata": {
    "ExecuteTime": {
     "end_time": "2024-09-19T17:28:23.845937Z",
     "start_time": "2024-09-19T17:28:23.582872Z"
    }
   },
   "cell_type": "code",
   "source": "baseball_df = pd.read_pickle(\"data/baseball_data.pkl\")",
   "id": "2592468c3beb82f1",
   "outputs": [],
   "execution_count": 2
  },
  {
   "metadata": {
    "ExecuteTime": {
     "end_time": "2024-09-19T17:28:23.856802Z",
     "start_time": "2024-09-19T17:28:23.847215Z"
    }
   },
   "cell_type": "code",
   "source": "baseball_df.head()",
   "id": "73a74e72043a4c90",
   "outputs": [
    {
     "data": {
      "text/plain": [
       "                       gameid             GameDate        Date      Time  ab  \\\n",
       "0  2021/04/01/pitmlb-chnmlb-1  2021-04-01 13:20:00  2021-04-01  13:20:00   1   \n",
       "1  2021/04/01/pitmlb-chnmlb-1  2021-04-01 13:20:00  2021-04-01  13:20:00   1   \n",
       "2  2021/04/01/pitmlb-chnmlb-1  2021-04-01 13:20:00  2021-04-01  13:20:00   1   \n",
       "3  2021/04/01/pitmlb-chnmlb-1  2021-04-01 13:20:00  2021-04-01  13:20:00   1   \n",
       "4  2021/04/01/pitmlb-chnmlb-1  2021-04-01 13:20:00  2021-04-01  13:20:00   1   \n",
       "\n",
       "   pitchnum  inning  teambat  balls  strikes  ...  hometeam_id          Home  \\\n",
       "0         1     1.0        0    0.0      0.0  ...          112  Chicago Cubs   \n",
       "1         2     1.0        0    1.0      0.0  ...          112  Chicago Cubs   \n",
       "2         3     1.0        0    1.0      1.0  ...          112  Chicago Cubs   \n",
       "3         4     1.0        0    2.0      1.0  ...          112  Chicago Cubs   \n",
       "4         5     1.0        0    3.0      1.0  ...          112  Chicago Cubs   \n",
       "\n",
       "  awayteam_id             Visitor venue_id     venue_name game_start  \\\n",
       "0         134  Pittsburgh Pirates       17  Wrigley Field       True   \n",
       "1         134  Pittsburgh Pirates       17  Wrigley Field      False   \n",
       "2         134  Pittsburgh Pirates       17  Wrigley Field      False   \n",
       "3         134  Pittsburgh Pirates       17  Wrigley Field      False   \n",
       "4         134  Pittsburgh Pirates       17  Wrigley Field      False   \n",
       "\n",
       "  game_number visscore homscore  \n",
       "0           1      0.0      0.0  \n",
       "1           1      0.0      0.0  \n",
       "2           1      0.0      0.0  \n",
       "3           1      0.0      0.0  \n",
       "4           1      0.0      0.0  \n",
       "\n",
       "[5 rows x 36 columns]"
      ],
      "text/html": [
       "<div>\n",
       "<style scoped>\n",
       "    .dataframe tbody tr th:only-of-type {\n",
       "        vertical-align: middle;\n",
       "    }\n",
       "\n",
       "    .dataframe tbody tr th {\n",
       "        vertical-align: top;\n",
       "    }\n",
       "\n",
       "    .dataframe thead th {\n",
       "        text-align: right;\n",
       "    }\n",
       "</style>\n",
       "<table border=\"1\" class=\"dataframe\">\n",
       "  <thead>\n",
       "    <tr style=\"text-align: right;\">\n",
       "      <th></th>\n",
       "      <th>gameid</th>\n",
       "      <th>GameDate</th>\n",
       "      <th>Date</th>\n",
       "      <th>Time</th>\n",
       "      <th>ab</th>\n",
       "      <th>pitchnum</th>\n",
       "      <th>inning</th>\n",
       "      <th>teambat</th>\n",
       "      <th>balls</th>\n",
       "      <th>strikes</th>\n",
       "      <th>...</th>\n",
       "      <th>hometeam_id</th>\n",
       "      <th>Home</th>\n",
       "      <th>awayteam_id</th>\n",
       "      <th>Visitor</th>\n",
       "      <th>venue_id</th>\n",
       "      <th>venue_name</th>\n",
       "      <th>game_start</th>\n",
       "      <th>game_number</th>\n",
       "      <th>visscore</th>\n",
       "      <th>homscore</th>\n",
       "    </tr>\n",
       "  </thead>\n",
       "  <tbody>\n",
       "    <tr>\n",
       "      <th>0</th>\n",
       "      <td>2021/04/01/pitmlb-chnmlb-1</td>\n",
       "      <td>2021-04-01 13:20:00</td>\n",
       "      <td>2021-04-01</td>\n",
       "      <td>13:20:00</td>\n",
       "      <td>1</td>\n",
       "      <td>1</td>\n",
       "      <td>1.0</td>\n",
       "      <td>0</td>\n",
       "      <td>0.0</td>\n",
       "      <td>0.0</td>\n",
       "      <td>...</td>\n",
       "      <td>112</td>\n",
       "      <td>Chicago Cubs</td>\n",
       "      <td>134</td>\n",
       "      <td>Pittsburgh Pirates</td>\n",
       "      <td>17</td>\n",
       "      <td>Wrigley Field</td>\n",
       "      <td>True</td>\n",
       "      <td>1</td>\n",
       "      <td>0.0</td>\n",
       "      <td>0.0</td>\n",
       "    </tr>\n",
       "    <tr>\n",
       "      <th>1</th>\n",
       "      <td>2021/04/01/pitmlb-chnmlb-1</td>\n",
       "      <td>2021-04-01 13:20:00</td>\n",
       "      <td>2021-04-01</td>\n",
       "      <td>13:20:00</td>\n",
       "      <td>1</td>\n",
       "      <td>2</td>\n",
       "      <td>1.0</td>\n",
       "      <td>0</td>\n",
       "      <td>1.0</td>\n",
       "      <td>0.0</td>\n",
       "      <td>...</td>\n",
       "      <td>112</td>\n",
       "      <td>Chicago Cubs</td>\n",
       "      <td>134</td>\n",
       "      <td>Pittsburgh Pirates</td>\n",
       "      <td>17</td>\n",
       "      <td>Wrigley Field</td>\n",
       "      <td>False</td>\n",
       "      <td>1</td>\n",
       "      <td>0.0</td>\n",
       "      <td>0.0</td>\n",
       "    </tr>\n",
       "    <tr>\n",
       "      <th>2</th>\n",
       "      <td>2021/04/01/pitmlb-chnmlb-1</td>\n",
       "      <td>2021-04-01 13:20:00</td>\n",
       "      <td>2021-04-01</td>\n",
       "      <td>13:20:00</td>\n",
       "      <td>1</td>\n",
       "      <td>3</td>\n",
       "      <td>1.0</td>\n",
       "      <td>0</td>\n",
       "      <td>1.0</td>\n",
       "      <td>1.0</td>\n",
       "      <td>...</td>\n",
       "      <td>112</td>\n",
       "      <td>Chicago Cubs</td>\n",
       "      <td>134</td>\n",
       "      <td>Pittsburgh Pirates</td>\n",
       "      <td>17</td>\n",
       "      <td>Wrigley Field</td>\n",
       "      <td>False</td>\n",
       "      <td>1</td>\n",
       "      <td>0.0</td>\n",
       "      <td>0.0</td>\n",
       "    </tr>\n",
       "    <tr>\n",
       "      <th>3</th>\n",
       "      <td>2021/04/01/pitmlb-chnmlb-1</td>\n",
       "      <td>2021-04-01 13:20:00</td>\n",
       "      <td>2021-04-01</td>\n",
       "      <td>13:20:00</td>\n",
       "      <td>1</td>\n",
       "      <td>4</td>\n",
       "      <td>1.0</td>\n",
       "      <td>0</td>\n",
       "      <td>2.0</td>\n",
       "      <td>1.0</td>\n",
       "      <td>...</td>\n",
       "      <td>112</td>\n",
       "      <td>Chicago Cubs</td>\n",
       "      <td>134</td>\n",
       "      <td>Pittsburgh Pirates</td>\n",
       "      <td>17</td>\n",
       "      <td>Wrigley Field</td>\n",
       "      <td>False</td>\n",
       "      <td>1</td>\n",
       "      <td>0.0</td>\n",
       "      <td>0.0</td>\n",
       "    </tr>\n",
       "    <tr>\n",
       "      <th>4</th>\n",
       "      <td>2021/04/01/pitmlb-chnmlb-1</td>\n",
       "      <td>2021-04-01 13:20:00</td>\n",
       "      <td>2021-04-01</td>\n",
       "      <td>13:20:00</td>\n",
       "      <td>1</td>\n",
       "      <td>5</td>\n",
       "      <td>1.0</td>\n",
       "      <td>0</td>\n",
       "      <td>3.0</td>\n",
       "      <td>1.0</td>\n",
       "      <td>...</td>\n",
       "      <td>112</td>\n",
       "      <td>Chicago Cubs</td>\n",
       "      <td>134</td>\n",
       "      <td>Pittsburgh Pirates</td>\n",
       "      <td>17</td>\n",
       "      <td>Wrigley Field</td>\n",
       "      <td>False</td>\n",
       "      <td>1</td>\n",
       "      <td>0.0</td>\n",
       "      <td>0.0</td>\n",
       "    </tr>\n",
       "  </tbody>\n",
       "</table>\n",
       "<p>5 rows × 36 columns</p>\n",
       "</div>"
      ]
     },
     "execution_count": 3,
     "metadata": {},
     "output_type": "execute_result"
    }
   ],
   "execution_count": 3
  },
  {
   "metadata": {
    "ExecuteTime": {
     "end_time": "2024-09-19T17:28:24.043484Z",
     "start_time": "2024-09-19T17:28:24.041299Z"
    }
   },
   "cell_type": "code",
   "source": "baseball_df.columns",
   "id": "dc77fdf7cfa7750c",
   "outputs": [
    {
     "data": {
      "text/plain": [
       "Index(['gameid', 'GameDate', 'Date', 'Time', 'ab', 'pitchnum', 'inning',\n",
       "       'teambat', 'balls', 'strikes', 'outs', 'pitcher', 'pitcherthrows',\n",
       "       'batter', 'batterside', 'pitchresult', 'pitchresult_desc', 'eventtype',\n",
       "       'pitchname', 'pitchname_desc', 'spinrate', 'relspeed', 'horzbreak',\n",
       "       'inducedvertbreak', 'platelocside', 'platelocheight', 'hometeam_id',\n",
       "       'Home', 'awayteam_id', 'Visitor', 'venue_id', 'venue_name',\n",
       "       'game_start', 'game_number', 'visscore', 'homscore'],\n",
       "      dtype='object')"
      ]
     },
     "execution_count": 4,
     "metadata": {},
     "output_type": "execute_result"
    }
   ],
   "execution_count": 4
  },
  {
   "metadata": {
    "ExecuteTime": {
     "end_time": "2024-09-19T17:28:24.199334Z",
     "start_time": "2024-09-19T17:28:24.179356Z"
    }
   },
   "cell_type": "code",
   "source": "baseball_df['eventtype'].unique()",
   "id": "8d7e20f73c2f0b27",
   "outputs": [
    {
     "data": {
      "text/plain": [
       "array(['ball', 'foul', 'walk', 'home_run', 'field_out', 'called_strike',\n",
       "       'strikeout', 'blocked_ball', 'swinging_strike', 'force_out',\n",
       "       'double', 'sac_fly', 'single', 'foul_bunt', 'sac_bunt',\n",
       "       'field_error', 'stolen_base_2b', 'stolen_base_3b', 'hit_by_pitch',\n",
       "       'foul_tip', 'wild_pitch', 'swinging_strike_blocked',\n",
       "       'grounded_into_double_play', 'double_play', 'defensive_indiff',\n",
       "       'triple', 'fielders_choice_out', 'missed_bunt', 'passed_ball',\n",
       "       'catcher_interf', 'caught_stealing_2b', 'fielders_choice',\n",
       "       'caught_stealing_3b', 'sac_fly_double_play',\n",
       "       'strikeout_double_play', 'pitchout', 'balk', 'bunt_foul_tip',\n",
       "       'triple_play', 'sac_bunt_double_play',\n",
       "       'pickoff_caught_stealing_2b', 'intent_walk',\n",
       "       'caught_stealing_home', 'foul_pitchout', nan, 'other_advance',\n",
       "       'stolen_base_home'], dtype=object)"
      ]
     },
     "execution_count": 5,
     "metadata": {},
     "output_type": "execute_result"
    }
   ],
   "execution_count": 5
  },
  {
   "metadata": {},
   "cell_type": "markdown",
   "source": "## Trying to Create Groupings for Pitchers",
   "id": "87d147a71a273696"
  },
  {
   "metadata": {},
   "cell_type": "markdown",
   "source": "### Option 1: Grouping by Velocity/SpinRate",
   "id": "522499b1aa1d6220"
  },
  {
   "metadata": {
    "ExecuteTime": {
     "end_time": "2024-09-19T17:28:25.159877Z",
     "start_time": "2024-09-19T17:28:24.974184Z"
    }
   },
   "cell_type": "code",
   "source": [
    "# https://rocklandpeakperformance.com/baseball-pitches-a-comprehensive-guide/#:~:text=In%20major%20league%20baseball%2C%20a,high%2080's%20to%20100%2B%20MPH.\n",
    "\n",
    "# I don't know what good velocities are for these bins, have to do some more research\n",
    "\n",
    "# Create velocity bins\n",
    "baseball_df['velocity_group'] = pd.cut(\n",
    "    baseball_df['relspeed'], \n",
    "    bins=[0, 85, 92, float('inf')], \n",
    "    labels=['Low Velocity', 'Medium Velocity', 'High Velocity']\n",
    ")\n",
    "\n",
    "# Create spin rate bins\n",
    "baseball_df['spinrate_group'] = pd.cut(\n",
    "    baseball_df['spinrate'], \n",
    "    bins=[0, 2000, 2500, float('inf')], \n",
    "    labels=['Low Spin', 'Medium Spin', 'High Spin']\n",
    ")\n",
    "\n",
    "baseball_df['spinrate_group'].dtype\n",
    "baseball_df['velocity_group'].dtype\n",
    "# baseball_df.head()\n",
    "\n",
    "# baseball_df['velocity_group'] = baseball_df['velocity_group'].fillna('Unknown')\n",
    "# baseball_df['spinrate_group'] = baseball_df['spinrate_group'].fillna('Unknown')\n",
    "\n",
    "# # Group pitchers based on both criteria\n",
    "baseball_df['pitcher_group'] = baseball_df['velocity_group'].astype(str) + ' / ' + baseball_df['spinrate_group'].astype(str)\n",
    "# \n",
    "baseball_df[['pitcher','pitchname', 'velocity_group', 'spinrate_group', 'pitcher_group']]\n",
    "# baseball_df[['pitcher', 'velocity_group', 'spinrate_group', 'pitcher_group']].sort_values(by='pitcher')"
   ],
   "id": "a3d41c9181b8a864",
   "outputs": [
    {
     "data": {
      "text/plain": [
       "                pitcher pitchname   velocity_group spinrate_group  \\\n",
       "0       Hendricks, Kyle        FF  Medium Velocity      High Spin   \n",
       "1       Hendricks, Kyle        FF  Medium Velocity       Low Spin   \n",
       "2       Hendricks, Kyle        FF  Medium Velocity       Low Spin   \n",
       "3       Hendricks, Kyle        FF  Medium Velocity       Low Spin   \n",
       "4       Hendricks, Kyle        FF  Medium Velocity       Low Spin   \n",
       "...                 ...       ...              ...            ...   \n",
       "706904    Pivetta, Nick        FF    High Velocity    Medium Spin   \n",
       "706905    Pivetta, Nick        KC     Low Velocity      High Spin   \n",
       "706906    Pivetta, Nick        FF    High Velocity    Medium Spin   \n",
       "706907    Pivetta, Nick        FF    High Velocity    Medium Spin   \n",
       "706908    Pivetta, Nick        KC     Low Velocity      High Spin   \n",
       "\n",
       "                      pitcher_group  \n",
       "0       Medium Velocity / High Spin  \n",
       "1        Medium Velocity / Low Spin  \n",
       "2        Medium Velocity / Low Spin  \n",
       "3        Medium Velocity / Low Spin  \n",
       "4        Medium Velocity / Low Spin  \n",
       "...                             ...  \n",
       "706904  High Velocity / Medium Spin  \n",
       "706905     Low Velocity / High Spin  \n",
       "706906  High Velocity / Medium Spin  \n",
       "706907  High Velocity / Medium Spin  \n",
       "706908     Low Velocity / High Spin  \n",
       "\n",
       "[706909 rows x 5 columns]"
      ],
      "text/html": [
       "<div>\n",
       "<style scoped>\n",
       "    .dataframe tbody tr th:only-of-type {\n",
       "        vertical-align: middle;\n",
       "    }\n",
       "\n",
       "    .dataframe tbody tr th {\n",
       "        vertical-align: top;\n",
       "    }\n",
       "\n",
       "    .dataframe thead th {\n",
       "        text-align: right;\n",
       "    }\n",
       "</style>\n",
       "<table border=\"1\" class=\"dataframe\">\n",
       "  <thead>\n",
       "    <tr style=\"text-align: right;\">\n",
       "      <th></th>\n",
       "      <th>pitcher</th>\n",
       "      <th>pitchname</th>\n",
       "      <th>velocity_group</th>\n",
       "      <th>spinrate_group</th>\n",
       "      <th>pitcher_group</th>\n",
       "    </tr>\n",
       "  </thead>\n",
       "  <tbody>\n",
       "    <tr>\n",
       "      <th>0</th>\n",
       "      <td>Hendricks, Kyle</td>\n",
       "      <td>FF</td>\n",
       "      <td>Medium Velocity</td>\n",
       "      <td>High Spin</td>\n",
       "      <td>Medium Velocity / High Spin</td>\n",
       "    </tr>\n",
       "    <tr>\n",
       "      <th>1</th>\n",
       "      <td>Hendricks, Kyle</td>\n",
       "      <td>FF</td>\n",
       "      <td>Medium Velocity</td>\n",
       "      <td>Low Spin</td>\n",
       "      <td>Medium Velocity / Low Spin</td>\n",
       "    </tr>\n",
       "    <tr>\n",
       "      <th>2</th>\n",
       "      <td>Hendricks, Kyle</td>\n",
       "      <td>FF</td>\n",
       "      <td>Medium Velocity</td>\n",
       "      <td>Low Spin</td>\n",
       "      <td>Medium Velocity / Low Spin</td>\n",
       "    </tr>\n",
       "    <tr>\n",
       "      <th>3</th>\n",
       "      <td>Hendricks, Kyle</td>\n",
       "      <td>FF</td>\n",
       "      <td>Medium Velocity</td>\n",
       "      <td>Low Spin</td>\n",
       "      <td>Medium Velocity / Low Spin</td>\n",
       "    </tr>\n",
       "    <tr>\n",
       "      <th>4</th>\n",
       "      <td>Hendricks, Kyle</td>\n",
       "      <td>FF</td>\n",
       "      <td>Medium Velocity</td>\n",
       "      <td>Low Spin</td>\n",
       "      <td>Medium Velocity / Low Spin</td>\n",
       "    </tr>\n",
       "    <tr>\n",
       "      <th>...</th>\n",
       "      <td>...</td>\n",
       "      <td>...</td>\n",
       "      <td>...</td>\n",
       "      <td>...</td>\n",
       "      <td>...</td>\n",
       "    </tr>\n",
       "    <tr>\n",
       "      <th>706904</th>\n",
       "      <td>Pivetta, Nick</td>\n",
       "      <td>FF</td>\n",
       "      <td>High Velocity</td>\n",
       "      <td>Medium Spin</td>\n",
       "      <td>High Velocity / Medium Spin</td>\n",
       "    </tr>\n",
       "    <tr>\n",
       "      <th>706905</th>\n",
       "      <td>Pivetta, Nick</td>\n",
       "      <td>KC</td>\n",
       "      <td>Low Velocity</td>\n",
       "      <td>High Spin</td>\n",
       "      <td>Low Velocity / High Spin</td>\n",
       "    </tr>\n",
       "    <tr>\n",
       "      <th>706906</th>\n",
       "      <td>Pivetta, Nick</td>\n",
       "      <td>FF</td>\n",
       "      <td>High Velocity</td>\n",
       "      <td>Medium Spin</td>\n",
       "      <td>High Velocity / Medium Spin</td>\n",
       "    </tr>\n",
       "    <tr>\n",
       "      <th>706907</th>\n",
       "      <td>Pivetta, Nick</td>\n",
       "      <td>FF</td>\n",
       "      <td>High Velocity</td>\n",
       "      <td>Medium Spin</td>\n",
       "      <td>High Velocity / Medium Spin</td>\n",
       "    </tr>\n",
       "    <tr>\n",
       "      <th>706908</th>\n",
       "      <td>Pivetta, Nick</td>\n",
       "      <td>KC</td>\n",
       "      <td>Low Velocity</td>\n",
       "      <td>High Spin</td>\n",
       "      <td>Low Velocity / High Spin</td>\n",
       "    </tr>\n",
       "  </tbody>\n",
       "</table>\n",
       "<p>706909 rows × 5 columns</p>\n",
       "</div>"
      ]
     },
     "execution_count": 6,
     "metadata": {},
     "output_type": "execute_result"
    }
   ],
   "execution_count": 6
  },
  {
   "metadata": {},
   "cell_type": "markdown",
   "source": "### Option 2: Getting Proportions of Innings that the pitchers have pitched in  ",
   "id": "7c3da74cdf4e7f84"
  },
  {
   "metadata": {
    "ExecuteTime": {
     "end_time": "2024-09-19T17:28:25.849569Z",
     "start_time": "2024-09-19T17:28:25.796789Z"
    }
   },
   "cell_type": "code",
   "source": [
    "pitcher_inning_counts = baseball_df.groupby(['pitcher', 'inning']).size().reset_index(name='inning_count')\n",
    "\n",
    "# Group by pitcher to get total innings pitched for each pitcher\n",
    "pitcher_total_innings = pitcher_inning_counts.groupby('pitcher')['inning_count'].sum().reset_index(name='total_innings')\n",
    "\n",
    "# Merge total innings back into the inning counts df\n",
    "pitcher_inning_proportions = pd.merge(pitcher_inning_counts, pitcher_total_innings, on='pitcher')\n",
    "\n",
    "# Calculate the proportion of innings pitched for each pitcher in each inning\n",
    "pitcher_inning_proportions['proportion'] = pitcher_inning_proportions['inning_count'] / pitcher_inning_proportions['total_innings']\n",
    "\n",
    "# Sort by pitcher and inning\n",
    "pitcher_inning_proportions = pitcher_inning_proportions.sort_values(by=['pitcher', 'inning'])\n",
    "\n",
    "pitcher_inning_proportions.head()"
   ],
   "id": "b12a56dedc369b7f",
   "outputs": [
    {
     "data": {
      "text/plain": [
       "          pitcher  inning  inning_count  total_innings  proportion\n",
       "0  Abad, Fernando     3.0            10            299    0.033445\n",
       "1  Abad, Fernando     4.0            24            299    0.080268\n",
       "2  Abad, Fernando     5.0            47            299    0.157191\n",
       "3  Abad, Fernando     6.0            73            299    0.244147\n",
       "4  Abad, Fernando     7.0            63            299    0.210702"
      ],
      "text/html": [
       "<div>\n",
       "<style scoped>\n",
       "    .dataframe tbody tr th:only-of-type {\n",
       "        vertical-align: middle;\n",
       "    }\n",
       "\n",
       "    .dataframe tbody tr th {\n",
       "        vertical-align: top;\n",
       "    }\n",
       "\n",
       "    .dataframe thead th {\n",
       "        text-align: right;\n",
       "    }\n",
       "</style>\n",
       "<table border=\"1\" class=\"dataframe\">\n",
       "  <thead>\n",
       "    <tr style=\"text-align: right;\">\n",
       "      <th></th>\n",
       "      <th>pitcher</th>\n",
       "      <th>inning</th>\n",
       "      <th>inning_count</th>\n",
       "      <th>total_innings</th>\n",
       "      <th>proportion</th>\n",
       "    </tr>\n",
       "  </thead>\n",
       "  <tbody>\n",
       "    <tr>\n",
       "      <th>0</th>\n",
       "      <td>Abad, Fernando</td>\n",
       "      <td>3.0</td>\n",
       "      <td>10</td>\n",
       "      <td>299</td>\n",
       "      <td>0.033445</td>\n",
       "    </tr>\n",
       "    <tr>\n",
       "      <th>1</th>\n",
       "      <td>Abad, Fernando</td>\n",
       "      <td>4.0</td>\n",
       "      <td>24</td>\n",
       "      <td>299</td>\n",
       "      <td>0.080268</td>\n",
       "    </tr>\n",
       "    <tr>\n",
       "      <th>2</th>\n",
       "      <td>Abad, Fernando</td>\n",
       "      <td>5.0</td>\n",
       "      <td>47</td>\n",
       "      <td>299</td>\n",
       "      <td>0.157191</td>\n",
       "    </tr>\n",
       "    <tr>\n",
       "      <th>3</th>\n",
       "      <td>Abad, Fernando</td>\n",
       "      <td>6.0</td>\n",
       "      <td>73</td>\n",
       "      <td>299</td>\n",
       "      <td>0.244147</td>\n",
       "    </tr>\n",
       "    <tr>\n",
       "      <th>4</th>\n",
       "      <td>Abad, Fernando</td>\n",
       "      <td>7.0</td>\n",
       "      <td>63</td>\n",
       "      <td>299</td>\n",
       "      <td>0.210702</td>\n",
       "    </tr>\n",
       "  </tbody>\n",
       "</table>\n",
       "</div>"
      ]
     },
     "execution_count": 7,
     "metadata": {},
     "output_type": "execute_result"
    }
   ],
   "execution_count": 7
  },
  {
   "metadata": {
    "ExecuteTime": {
     "end_time": "2024-09-19T17:28:26.232383Z",
     "start_time": "2024-09-19T17:28:26.227217Z"
    }
   },
   "cell_type": "code",
   "source": [
    "def get_proportion_table(df, pitcher_name):\n",
    "    # Filter the DataFrame by the specified pitcher name\n",
    "    pitcher_df = df[df['pitcher'] == pitcher_name]\n",
    "    \n",
    "    # Calculate the proportion of innings pitched\n",
    "    proportion_table = pitcher_df[['inning', 'inning_count', 'total_innings', 'proportion']]\n",
    "    \n",
    "    return proportion_table\n",
    "\n",
    "result = get_proportion_table(pitcher_inning_proportions, 'Burnes, Corbin')\n",
    "print(result)"
   ],
   "id": "82d517437dfbda85",
   "outputs": [
    {
     "name": "stdout",
     "output_type": "stream",
     "text": [
      "     inning  inning_count  total_innings  proportion\n",
      "727     1.0           450           2594    0.173477\n",
      "728     2.0           404           2594    0.155744\n",
      "729     3.0           390           2594    0.150347\n",
      "730     4.0           423           2594    0.163069\n",
      "731     5.0           391           2594    0.150732\n",
      "732     6.0           371           2594    0.143022\n",
      "733     7.0           101           2594    0.038936\n",
      "734     8.0            54           2594    0.020817\n",
      "735     9.0            10           2594    0.003855\n"
     ]
    }
   ],
   "execution_count": 8
  },
  {
   "metadata": {
    "ExecuteTime": {
     "end_time": "2024-09-19T17:28:46.231274Z",
     "start_time": "2024-09-19T17:28:46.226253Z"
    }
   },
   "cell_type": "code",
   "source": [
    "def plot_proportion(df, pitcher_name):\n",
    "    # Get the proportion table for the given pitcher\n",
    "    proportion_table = get_proportion_table(df, pitcher_name)\n",
    "    \n",
    "    plt.figure(figsize=(10, 6))\n",
    "    plt.plot(proportion_table['inning'], proportion_table['proportion'], marker='o', linestyle='-', color='b', label=f'Proportion of innings - {pitcher_name}')\n",
    "    \n",
    "    # Add labels and title\n",
    "    plt.xlabel('Inning')\n",
    "    plt.ylabel('Proportion of Innings Pitched')\n",
    "    plt.title(f'Inning Proportions for {pitcher_name}')\n",
    "    plt.grid(True)\n",
    "    plt.legend()\n",
    "    \n",
    "    plt.show()\n",
    "\n",
    "def plot_pmf(df, pitcher_name):\n",
    "    # Get the proportion table for the given pitcher\n",
    "    proportion_table = get_proportion_table(df, pitcher_name)\n",
    "    \n",
    "    # Plot the PMF (treating the 'proportion' as the PMF values)\n",
    "    plt.figure(figsize=(10, 6))\n",
    "    plt.bar(proportion_table['inning'], proportion_table['proportion'], color='b', alpha=0.7)\n",
    "    \n",
    "    # Add labels and title\n",
    "    plt.xlabel('Inning')\n",
    "    plt.ylabel('Probability')\n",
    "    plt.title(f'PMF of Inning Proportions for {pitcher_name}')\n",
    "    plt.grid(True)\n",
    "    \n",
    "    # Show the plot\n",
    "    plt.show()"
   ],
   "id": "180833ae4c196419",
   "outputs": [],
   "execution_count": 13
  },
  {
   "metadata": {
    "ExecuteTime": {
     "end_time": "2024-09-19T17:28:49.395542Z",
     "start_time": "2024-09-19T17:28:49.302243Z"
    }
   },
   "cell_type": "code",
   "source": [
    "# Example usage\n",
    "plot_pmf(pitcher_inning_proportions, 'Abad, Fernando')"
   ],
   "id": "d690bcea96ae8978",
   "outputs": [
    {
     "data": {
      "text/plain": [
       "<Figure size 1000x600 with 1 Axes>"
      ],
      "image/png": "[encoded data removed]"
     },
     "metadata": {},
     "output_type": "display_data"
    }
   ],
   "execution_count": 14
  },
  {
   "metadata": {
    "ExecuteTime": {
     "end_time": "2024-09-19T18:08:21.148413Z",
     "start_time": "2024-09-19T18:08:21.068242Z"
    }
   },
   "cell_type": "code",
   "source": "plot_pmf(pitcher_inning_proportions, 'Scherzer, Max')",
   "id": "72cac3ee47e8ac3c",
   "outputs": [
    {
     "data": {
      "text/plain": [
       "<Figure size 1000x600 with 1 Axes>"
      ],
      "image/png": "[encoded data removed]"
     },
     "metadata": {},
     "output_type": "display_data"
    }
   ],
   "execution_count": 17
  },
  {
   "metadata": {
    "ExecuteTime": {
     "end_time": "2024-09-19T18:06:52.712802Z",
     "start_time": "2024-09-19T18:06:52.619909Z"
    }
   },
   "cell_type": "code",
   "source": "plot_pmf(pitcher_inning_proportions, 'Suter, Brent')",
   "id": "8ca506c88470c7af",
   "outputs": [
    {
     "data": {
      "text/plain": [
       "<Figure size 1000x600 with 1 Axes>"
      ],
      "image/png": "[encoded data removed]"
     },
     "metadata": {},
     "output_type": "display_data"
    }
   ],
   "execution_count": 16
  },
  {
   "metadata": {},
   "cell_type": "markdown",
   "source": "## Creating DataFrames for Different Game Situations",
   "id": "e3e90de60a3d4655"
  },
  {
   "metadata": {},
   "cell_type": "code",
   "outputs": [],
   "execution_count": null,
   "source": "",
   "id": "a42e45906f64f3cc"
  },
  {
   "metadata": {
    "ExecuteTime": {
     "end_time": "2024-09-19T17:28:28.924254Z",
     "start_time": "2024-09-19T17:28:28.810018Z"
    }
   },
   "cell_type": "code",
   "source": [
    "# I don't know if we can get specific game states ___, B__, ... \n",
    "# I would try and use the \n",
    "outs_0_df = baseball_df[baseball_df['outs'] == 0]\n",
    "outs_1_df = baseball_df[baseball_df['outs'] == 1]\n",
    "outs_2_df = baseball_df[baseball_df['outs'] == 2]"
   ],
   "id": "afd457fcfbd6bf48",
   "outputs": [],
   "execution_count": 11
  },
  {
   "metadata": {},
   "cell_type": "code",
   "source": "outs_0_df.head(20)",
   "id": "9248d35d1894fa60",
   "outputs": [],
   "execution_count": null
  },
  {
   "metadata": {},
   "cell_type": "code",
   "source": "",
   "id": "106435b83fef2a3b",
   "outputs": [],
   "execution_count": null
  }
 ],
 "metadata": {
  "kernelspec": {
   "display_name": "Python 3",
   "language": "python",
   "name": "python3"
  },
  "language_info": {
   "codemirror_mode": {
    "name": "ipython",
    "version": 2
   },
   "file_extension": ".py",
   "mimetype": "text/x-python",
   "name": "python",
   "nbconvert_exporter": "python",
   "pygments_lexer": "ipython2",
   "version": "2.7.6"
  }
 },
 "nbformat": 4,
 "nbformat_minor": 5
}
