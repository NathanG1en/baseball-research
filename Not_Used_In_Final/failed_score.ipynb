{
 "cells": [
  {
   "cell_type": "code",
   "id": "initial_id",
   "metadata": {
    "collapsed": true,
    "ExecuteTime": {
     "end_time": "2024-11-18T00:56:15.887623Z",
     "start_time": "2024-11-18T00:56:15.524042Z"
    }
   },
   "source": [
    "og_data = cleaned_data_classwise\n",
    "og_data \n",
    "\n",
    "bruh = data_encoded.loc[:, data_encoded.columns.difference(['pitchresult_category_strike_related','pitchresult_category_foul', 'pitchresult_category_in_play', 'pitchresult_category_other', 'pitchresult_category_strikeout', 'pitchresult_category_strikeout_binary', 'movement_ratio'])]"
   ],
   "outputs": [
    {
     "ename": "NameError",
     "evalue": "name 'cleaned_data_classwise' is not defined",
     "output_type": "error",
     "traceback": [
      "\u001B[0;31m---------------------------------------------------------------------------\u001B[0m",
      "\u001B[0;31mNameError\u001B[0m                                 Traceback (most recent call last)",
      "Cell \u001B[0;32mIn[1], line 1\u001B[0m\n\u001B[0;32m----> 1\u001B[0m og_data \u001B[38;5;241m=\u001B[39m cleaned_data_classwise\n\u001B[1;32m      2\u001B[0m og_data \n\u001B[1;32m      4\u001B[0m bruh \u001B[38;5;241m=\u001B[39m data_encoded\u001B[38;5;241m.\u001B[39mloc[:, data_encoded\u001B[38;5;241m.\u001B[39mcolumns\u001B[38;5;241m.\u001B[39mdifference([\u001B[38;5;124m'\u001B[39m\u001B[38;5;124mpitchresult_category_strike_related\u001B[39m\u001B[38;5;124m'\u001B[39m,\u001B[38;5;124m'\u001B[39m\u001B[38;5;124mpitchresult_category_foul\u001B[39m\u001B[38;5;124m'\u001B[39m, \u001B[38;5;124m'\u001B[39m\u001B[38;5;124mpitchresult_category_in_play\u001B[39m\u001B[38;5;124m'\u001B[39m, \u001B[38;5;124m'\u001B[39m\u001B[38;5;124mpitchresult_category_other\u001B[39m\u001B[38;5;124m'\u001B[39m, \u001B[38;5;124m'\u001B[39m\u001B[38;5;124mpitchresult_category_strikeout\u001B[39m\u001B[38;5;124m'\u001B[39m, \u001B[38;5;124m'\u001B[39m\u001B[38;5;124mpitchresult_category_strikeout_binary\u001B[39m\u001B[38;5;124m'\u001B[39m, \u001B[38;5;124m'\u001B[39m\u001B[38;5;124mmovement_ratio\u001B[39m\u001B[38;5;124m'\u001B[39m])]\n",
      "\u001B[0;31mNameError\u001B[0m: name 'cleaned_data_classwise' is not defined"
     ]
    }
   ],
   "execution_count": 1
  },
  {
   "metadata": {
    "ExecuteTime": {
     "end_time": "2024-11-18T00:56:33.516779Z",
     "start_time": "2024-11-18T00:56:33.392796Z"
    }
   },
   "cell_type": "code",
   "source": [
    "# Filter the data for the desired columns\n",
    "data = bruh\n",
    "\n",
    "# Further filtering for FF pitchname and excluding 'field_out' eventtype\n",
    "data = data[(data['pitchname'] == 'FF') & (~data['eventtype'].isin(['field_out']))]\n",
    "\n",
    "# Filter to only include scenarios where pitchresult == 'C' (strikeout)\n",
    "data_strikeout = data[data['pitchresult'] == 'C']\n",
    "\n",
    "# Define the pitch characteristics for analysis\n",
    "pitch_characteristics = [\"spinrate\", \"horzbreak\", \"inducedvertbreak\", \"platelocside\", \"platelocheight\", \n",
    "                         \"relspeed\", \"average_relspeed\", \"relspeed_diff\", \"relspeed_inducedvertbreak\"]\n",
    "\n",
    "pitcher_stats = data_strikeout.groupby(\"pitcher\").filter(lambda x: len(x) > 1)\n",
    "\n",
    "# Group by pitcher and calculate the mean and standard deviation of the pitch characteristics\n",
    "pitcher_stats = pitcher_stats.groupby(\"pitcher\")[pitch_characteristics].agg(['mean', 'std'])"
   ],
   "id": "fcc5f7ccc7fd4a05",
   "outputs": [
    {
     "ename": "NameError",
     "evalue": "name 'bruh' is not defined",
     "output_type": "error",
     "traceback": [
      "\u001B[0;31m---------------------------------------------------------------------------\u001B[0m",
      "\u001B[0;31mNameError\u001B[0m                                 Traceback (most recent call last)",
      "Cell \u001B[0;32mIn[2], line 2\u001B[0m\n\u001B[1;32m      1\u001B[0m \u001B[38;5;66;03m# Filter the data for the desired columns\u001B[39;00m\n\u001B[0;32m----> 2\u001B[0m data \u001B[38;5;241m=\u001B[39m bruh\n\u001B[1;32m      4\u001B[0m \u001B[38;5;66;03m# Further filtering for FF pitchname and excluding 'field_out' eventtype\u001B[39;00m\n\u001B[1;32m      5\u001B[0m data \u001B[38;5;241m=\u001B[39m data[(data[\u001B[38;5;124m'\u001B[39m\u001B[38;5;124mpitchname\u001B[39m\u001B[38;5;124m'\u001B[39m] \u001B[38;5;241m==\u001B[39m \u001B[38;5;124m'\u001B[39m\u001B[38;5;124mFF\u001B[39m\u001B[38;5;124m'\u001B[39m) \u001B[38;5;241m&\u001B[39m (\u001B[38;5;241m~\u001B[39mdata[\u001B[38;5;124m'\u001B[39m\u001B[38;5;124meventtype\u001B[39m\u001B[38;5;124m'\u001B[39m]\u001B[38;5;241m.\u001B[39misin([\u001B[38;5;124m'\u001B[39m\u001B[38;5;124mfield_out\u001B[39m\u001B[38;5;124m'\u001B[39m]))]\n",
      "\u001B[0;31mNameError\u001B[0m: name 'bruh' is not defined"
     ]
    }
   ],
   "execution_count": 2
  },
  {
   "metadata": {},
   "cell_type": "code",
   "source": [
    "pitcher_stats.columns\n",
    "\n",
    "pitcher_stats.reset_index(inplace=True)\n",
    "\n",
    "pitcher_stats"
   ],
   "id": "d66ef4e27cbbf148",
   "outputs": [],
   "execution_count": null
  },
  {
   "metadata": {},
   "cell_type": "code",
   "outputs": [],
   "execution_count": null,
   "source": [
    "# bruh = data_encoded.loc[:, data_encoded.columns.difference(['pitchresult_category_strike_related','pitchresult_category_foul', 'pitchresult_category_in_play', 'pitchresult_category_other', 'pitchresult_category_strikeout', 'pitchresult_category_strikeout_binary', 'movement_ratio'])]\n",
    "columns = ['pitcher'] + [col for col in bruh.columns if col != 'pitcher']\n",
    "bruh = bruh[columns]\n",
    "\n",
    "# Reorder columns to make \"pitcher\" the first column\n",
    "bruh.drop(columns=['average_relspeed'], inplace=True)\n",
    "bruh"
   ],
   "id": "2604286996fb5c72"
  },
  {
   "metadata": {},
   "cell_type": "code",
   "outputs": [],
   "execution_count": null,
   "source": [
    "bruh_1 = bruh\n",
    "bruh_1"
   ],
   "id": "cc8f7a6f121321d7"
  },
  {
   "metadata": {},
   "cell_type": "code",
   "outputs": [],
   "execution_count": null,
   "source": [
    "# Set pitcher as the index for pitcher_stats to allow easy lookup\n",
    "pitcher_stats.set_index('pitcher', inplace=True)\n",
    "\n",
    "# Define the function to calculate the new value\n",
    "def calculate_z_score_adjusted(pitch, pitcher_stats, constant=5.74):\n",
    "    pitcher = pitch['pitcher']\n",
    "    relspeed = pitch['relspeed']\n",
    "    \n",
    "    # Get pitcher's mean and std for relspeed from pitcher_stats\n",
    "    try:\n",
    "        relspeed_mean = pitcher_stats['relspeed']['mean'][pitcher]\n",
    "        relspeed_std = pitcher_stats['relspeed']['std'][pitcher]\n",
    "        \n",
    "        # Calculate z-score and multiply by the constant\n",
    "        z_score_adjusted = ((relspeed - relspeed_mean) / relspeed_std) * constant\n",
    "        return z_score_adjusted\n",
    "    except KeyError:\n",
    "        return np.nan\n",
    "\n",
    "# Apply the function to the bruh dataframe\n",
    "bruh_1['relspeed_adjusted'] = bruh.apply(lambda row: calculate_z_score_adjusted(row, pitcher_stats), axis=1)"
   ],
   "id": "d70c1989902970b3"
  },
  {
   "metadata": {},
   "cell_type": "code",
   "outputs": [],
   "execution_count": null,
   "source": "bruh_1",
   "id": "c97b3cbebb5ec11f"
  },
  {
   "metadata": {},
   "cell_type": "code",
   "outputs": [],
   "execution_count": null,
   "source": [
    "# Define the function to calculate z-score adjusted values for different characteristics\n",
    "def calculate_z_score_adjusted_for_feature(pitch, pitcher_stats, feature, constant=6.17):\n",
    "    pitcher = pitch['pitcher']\n",
    "    value = pitch[feature]\n",
    "    \n",
    "    # Get pitcher's mean and std for the feature from pitcher_stats\n",
    "    try:\n",
    "        feature_mean = pitcher_stats[feature]['mean'][pitcher]\n",
    "        feature_std = pitcher_stats[feature]['std'][pitcher]\n",
    "        \n",
    "        # Calculate z-score and multiply by the constant\n",
    "        z_score_adjusted = ((value - feature_mean) / feature_std) * constant\n",
    "        return z_score_adjusted\n",
    "    except KeyError:\n",
    "        return np.nan\n",
    "\n",
    "# Apply these functions to the `bruh` dataframe\n",
    "bruh_1['spinrate_adjusted'] = bruh.apply(lambda row: calculate_z_score_adjusted_for_feature(row, pitcher_stats, 'spinrate', constant=3.78366), axis=1)\n",
    "bruh_1['horzbreak_adjusted'] = bruh.apply(lambda row: abs(calculate_z_score_adjusted_for_feature(row, pitcher_stats, 'horzbreak', constant =4.06374)), axis=1)\n",
    "# bruh_1['inducedvertbreak_adjusted'] = bruh.apply(lambda row: calculate_z_score_adjusted_for_feature(row, pitcher_stats, 'inducedvertbreak', constant = 3.),  axis=1)\n",
    "bruh_1['platelocside_adjusted'] = bruh.apply(lambda row: -calculate_z_score_adjusted_for_feature(row, pitcher_stats, 'platelocside', constant=29.64492), axis=1)\n",
    "bruh_1['platelocheight_adjusted'] = bruh.apply(lambda row: calculate_z_score_adjusted_for_feature(row, pitcher_stats, 'platelocheight', constant=31.36657), axis=1)\n",
    "bruh_1['relspeed_inducedvertbreak'] = bruh.apply(lambda row: calculate_z_score_adjusted_for_feature(row, pitcher_stats, 'relspeed_inducedvertbreak', constant=6.96876), axis=1)"
   ],
   "id": "5f6636c12381b99b"
  },
  {
   "metadata": {},
   "cell_type": "code",
   "outputs": [],
   "execution_count": null,
   "source": [
    "# Calculate \"my_score\" as the row sum of the specified columns\n",
    "bruh_1['my_score'] = bruh_1[['spinrate_adjusted', 'horzbreak_adjusted', 'platelocside_adjusted', 'platelocheight_adjusted', 'relspeed_inducedvertbreak']].sum(axis=1)\n",
    "\n",
    "# Calculate the average of \"my_score\" grouped by \"pitcher\"\n",
    "average_score_by_pitcher = bruh_1.groupby('pitcher')['my_score'].mean().reset_index()\n",
    "\n",
    "# Display the result\n",
    "average_score_by_pitcher"
   ],
   "id": "bb4cf613275b4df0"
  },
  {
   "metadata": {},
   "cell_type": "code",
   "outputs": [],
   "execution_count": null,
   "source": [
    "average_score_by_pitcher_sorted = average_score_by_pitcher.sort_values(by='my_score', ascending=False).reset_index(drop=True)\n",
    "\n",
    "average_score_by_pitcher_sorted"
   ],
   "id": "7cb9eed5a53cd091"
  },
  {
   "metadata": {},
   "cell_type": "code",
   "outputs": [],
   "execution_count": null,
   "source": "average_score_by_pitcher[average_score_by_pitcher['pitcher'] == \"deGrom, Jacob\"]",
   "id": "973f39fd7bc15af8"
  },
  {
   "metadata": {},
   "cell_type": "code",
   "outputs": [],
   "execution_count": null,
   "source": "bruh_1[bruh_1['pitcher'] == \"Morton, Charlie\"]",
   "id": "dd96750010fd2b97"
  },
  {
   "metadata": {},
   "cell_type": "code",
   "outputs": [],
   "execution_count": null,
   "source": [
    "plt.figure(figsize=(10, 6))\n",
    "plt.hist(average_score_by_pitcher['my_score'], bins=200, edgecolor='k', alpha=0.7)\n",
    "plt.xlabel('My Score')\n",
    "plt.ylabel('Frequency')\n",
    "plt.title('Distribution of My Score Across Pitchers')\n",
    "plt.show()"
   ],
   "id": "449b8b9fd9e5f999"
  },
  {
   "metadata": {},
   "cell_type": "code",
   "outputs": [],
   "execution_count": null,
   "source": [
    "from pybaseball import pitching_stats\n",
    "\n",
    "# Retrieve pitching stats for 2021 to 2023\n",
    "data = pitching_stats(2021, 2023)\n",
    "# Filter for desired columns\n",
    "era_data = data[['Season', 'Name', 'Team', 'ERA']]"
   ],
   "id": "71e470ab8bb3e9fc"
  },
  {
   "metadata": {},
   "cell_type": "code",
   "outputs": [],
   "execution_count": null,
   "source": "era_data",
   "id": "cb5ad029a9410def"
  },
  {
   "metadata": {},
   "cell_type": "code",
   "outputs": [],
   "execution_count": null,
   "source": [
    "# Calculating the overall average ERA for each pitcher across all seasons\n",
    "overall_average_era = era_data.groupby('Name')['ERA'].mean().reset_index()\n",
    "\n",
    "overall_average_era"
   ],
   "id": "1309d99663de1a32"
  },
  {
   "metadata": {},
   "cell_type": "code",
   "outputs": [],
   "execution_count": null,
   "source": [
    "# Adjusting the names in average_score_by_pitcher to match the format in overall_average_era\n",
    "\n",
    "# Function to reformat \"Lastname, Firstname\" to \"Firstname Lastname\"\n",
    "def reformat_name(name):\n",
    "    last, first = name.split(', ')\n",
    "    return f\"{first} {last}\"\n",
    "\n",
    "# Applying the reformatting function\n",
    "average_score_by_pitcher['Name'] = average_score_by_pitcher['pitcher'].apply(reformat_name)\n",
    "\n",
    "# Merging the dataframes on the reformatted name column\n",
    "merged_data = overall_average_era.merge(average_score_by_pitcher, on=\"Name\")\n",
    "\n",
    "# Plotting the ERA vs. my_score for each pitcher\n",
    "plt.figure(figsize=(10, 6))\n",
    "plt.scatter(merged_data['ERA'], merged_data['my_score'], color='blue', alpha=0.7)\n",
    "\n",
    "# Adding labels and title\n",
    "plt.xlabel(\"Average ERA\")\n",
    "plt.ylabel(\"Average My Score\")\n",
    "plt.title(\"Comparison of Average ERA and Average My Score by Pitcher\")\n",
    "plt.grid(True)\n",
    "\n",
    "# Displaying the plot\n",
    "plt.show()"
   ],
   "id": "aca0b10441713dbc"
  },
  {
   "metadata": {},
   "cell_type": "code",
   "outputs": [],
   "execution_count": null,
   "source": [
    "# Calculate the Pearson correlation coefficient between ERA and my_score\n",
    "correlation = merged_data['ERA'].corr(merged_data['my_score'])\n",
    "print(\"Correlation between ERA and my_score:\", correlation)"
   ],
   "id": "10482abfeb14fa8e"
  },
  {
   "metadata": {},
   "cell_type": "code",
   "outputs": [],
   "execution_count": null,
   "source": [
    "# Filter data to include only rows where my_score is between -20 and 20\n",
    "subset_data = merged_data[(merged_data['my_score'] >= 50) & (merged_data['my_score'] <= 90)]\n",
    "\n",
    "# Calculate the correlation for the filtered subset\n",
    "subset_correlation = subset_data['ERA'].corr(subset_data['my_score'])\n",
    "print(\"Correlation between ERA and my_score in [-20, 20]:\", subset_correlation)\n",
    "\n",
    "# Calculate the correlation for the full dataset for comparison\n",
    "full_correlation = merged_data['ERA'].corr(merged_data['my_score'])\n",
    "print(\"Correlation between ERA and my_score for all data:\", full_correlation)\n"
   ],
   "id": "10150115284db3e9"
  },
  {
   "metadata": {},
   "cell_type": "code",
   "outputs": [],
   "execution_count": null,
   "source": [
    "# Plotting the ERA vs. my_score for the filtered range\n",
    "plt.figure(figsize=(10, 6))\n",
    "plt.scatter(subset_data['ERA'], subset_data['my_score'], color='green', alpha=0.7)\n",
    "\n",
    "# Adding labels and title\n",
    "plt.xlabel(\"Average ERA\")\n",
    "plt.ylabel(\"Average My Score\")\n",
    "plt.title(\"Comparison of Average ERA and My Score by Pitcher (My Score between -20 and 20)\")\n",
    "plt.grid(True)\n",
    "\n",
    "# Displaying the plot\n",
    "plt.show()\n"
   ],
   "id": "8cc43ba07529869b"
  }
 ],
 "metadata": {
  "kernelspec": {
   "display_name": "Python 3",
   "language": "python",
   "name": "python3"
  },
  "language_info": {
   "codemirror_mode": {
    "name": "ipython",
    "version": 2
   },
   "file_extension": ".py",
   "mimetype": "text/x-python",
   "name": "python",
   "nbconvert_exporter": "python",
   "pygments_lexer": "ipython2",
   "version": "2.7.6"
  }
 },
 "nbformat": 4,
 "nbformat_minor": 5
}
